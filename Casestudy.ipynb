{
  "nbformat": 4,
  "nbformat_minor": 0,
  "metadata": {
    "colab": {
      "provenance": [],
      "authorship_tag": "ABX9TyPpRJelHLpfvcAEGimhzYJW",
      "include_colab_link": true
    },
    "kernelspec": {
      "name": "python3",
      "display_name": "Python 3"
    },
    "language_info": {
      "name": "python"
    }
  },
  "cells": [
    {
      "cell_type": "markdown",
      "metadata": {
        "id": "view-in-github",
        "colab_type": "text"
      },
      "source": [
        "<a href=\"https://colab.research.google.com/github/jubymariajoseph/DSA-Activities/blob/main/Casestudy.ipynb\" target=\"_parent\"><img src=\"https://colab.research.google.com/assets/colab-badge.svg\" alt=\"Open In Colab\"/></a>"
      ]
    },
    {
      "cell_type": "code",
      "execution_count": 16,
      "metadata": {
        "id": "95-kgbkQjBcC"
      },
      "outputs": [],
      "source": [
        "#1). Dataset: Monthly temperatures in a city (in °C): 12, 15, 14, 16, 18, 20, 22, 19,17, 15, 13, 10 Questions:\n",
        "#a) Calculate the mean temperature.b) Calculate the median temperature.c) Find the mode of the temperature data.d) Range and Variance\n",
        "Temp=[12, 15, 14, 16, 18, 20, 22, 19,17, 15, 13, 10]\n",
        "Temp.sort()\n",
        "def mean(list1):\n",
        "  sum=0\n",
        "  for i in list1:\n",
        "    sum=sum+i\n",
        "    mean=sum/len(list1)\n",
        "  return mean\n",
        "Mean=mean(Temp)\n",
        "def median(list3):\n",
        "  list3.sort()\n",
        "  if len(list3)%2!=0:\n",
        "    median=list3[len(list3)//2]\n",
        "  else:\n",
        "    mid1=list3[len(list3)//2-1]\n",
        "    mid2=list3[len(list3)//2]\n",
        "    median=(mid1+mid2)/2\n",
        "  return median\n",
        "m=median(Temp)\n",
        "def mode(list4):\n",
        "  data4=[]\n",
        "  set1=set()\n",
        "  for j in list4:\n",
        "    count=0\n",
        "    for u in range(0,len(list4)):\n",
        "      if list4[u]==j:\n",
        "        count=count+1\n",
        "    data4.append(count)\n",
        "  if max(data4)>1:\n",
        "    d=data4[0]\n",
        "    for i in data4:\n",
        "      if d<i:\n",
        "        d=i\n",
        "    for h in range(0,len(data4)):\n",
        "      if d==data4[h]:\n",
        "        set1.add(list4[h])\n",
        "        w=list(set1)\n",
        "    return w\n",
        "  else:\n",
        "    return None\n"
      ]
    },
    {
      "cell_type": "code",
      "source": [
        "f=mode(Temp)\n",
        "range1=max(Temp)-min(Temp)\n",
        "def variance(list8):\n",
        "  initial=0\n",
        "  sum4=0#mean of sales\n",
        "  for i in list8:\n",
        "    sum4=sum4+i\n",
        "  mean4=sum4/len(list8)\n",
        "  for f in list8:\n",
        "    summ=(f-mean4)**2\n",
        "    initial=summ+initial\n",
        "  variance3=initial/len(list8)\n",
        "  return variance3\n",
        "z=variance(Temp)\n",
        "print(\"Variance is\",z)\n",
        "print(\"The range is\",range1)\n",
        "print(\"mode is\",f)\n",
        "print(\"Median is\",m)\n",
        "print(\"Mean is\",Mean)"
      ],
      "metadata": {
        "colab": {
          "base_uri": "https://localhost:8080/"
        },
        "id": "N4-WjJuAD2di",
        "outputId": "27743446-8f5f-42c4-d0ba-f2991433035a"
      },
      "execution_count": 17,
      "outputs": [
        {
          "output_type": "stream",
          "name": "stdout",
          "text": [
            "Variance is 11.076388888888888\n",
            "The range is 12\n",
            "mode is [15]\n",
            "Median is 15.5\n",
            "Mean is 15.916666666666666\n"
          ]
        }
      ]
    },
    {
      "cell_type": "code",
      "source": [
        "#2. Dataset: Heights of students (in cm): 150, 160, 165, 170, 155, 160, 162, 168\n",
        "#Questions: a) Calculate the range of the heights.\n",
        "#b) Calculate the variance of the heights.\n",
        "#c) Standard Deviation\n",
        "heights=[150, 160, 165, 170, 155, 160, 162, 168]\n",
        "heights.sort()\n",
        "range2=max(heights)-min(heights)\n",
        "print(\"The range is\",range2)\n",
        "variance1=variance(heights)\n",
        "standard_deviation1=variance1**(1/2)\n",
        "print(\"The variance is\",variance1)\n",
        "print(\"The standard deviation is\",standard_deviation1)"
      ],
      "metadata": {
        "id": "pJ1Jiju8mEAA",
        "colab": {
          "base_uri": "https://localhost:8080/"
        },
        "outputId": "7ac57318-5723-4c80-d577-697728858eb1"
      },
      "execution_count": null,
      "outputs": [
        {
          "output_type": "stream",
          "name": "stdout",
          "text": [
            "The range is 20\n",
            "The variance is 38.1875\n",
            "The standard deviation is 6.179603547154137\n"
          ]
        }
      ]
    },
    {
      "cell_type": "code",
      "source": [
        "#3. Dataset: Weekly expenses (in $): 200, 250, 300, 220, 270, 290, 310\n",
        "#Questions: a) Calculate the standard deviation of the weekly expenses.\n",
        "expence=[200,250,300,220,270,290,310]\n",
        "expence.sort()\n",
        "v=variance(expence)\n",
        "standard_deviation2=v**(1/2)\n",
        "print(\"Standard deviation is\",standard_deviation2)"
      ],
      "metadata": {
        "id": "upt6if1pmJdr",
        "colab": {
          "base_uri": "https://localhost:8080/"
        },
        "outputId": "6d4b85dd-bbcf-49cd-dd42-65754900d07a"
      },
      "execution_count": null,
      "outputs": [
        {
          "output_type": "stream",
          "name": "stdout",
          "text": [
            "Standard deviation is 38.438925848782034\n"
          ]
        }
      ]
    },
    {
      "cell_type": "code",
      "source": [
        "#4. Dataset: Advertising Spending (in $1000s): 10, 20, 15, 25, 30; Sales (in$1000s): 100, 150, 120, 180, 200\n",
        "#Questions: a) Calculate the covariance between advertising spending and sales.\n",
        "#b) Correlation\n",
        "Spend=[10,20,15,25,30]\n",
        "sales=[100,150,120,180,200]\n",
        "mean4=mean(Spend)\n",
        "print(mean4)\n",
        "Mean4=mean(sales)\n",
        "variance_Spend=variance(Spend)\n",
        "variance_sales=variance(sales)\n",
        "standard_deviation_spend=variance_Spend**(1/2)\n",
        "standard_deviation_sales=variance_sales**(1/2)\n",
        "def covariance(list10,list11):\n",
        "  su3=0\n",
        "  for d in range(len(list10)):\n",
        "    for f in range(len(list11)):\n",
        "      if d==f:\n",
        "        su=list10[d]-mean4\n",
        "        se=list11[f]-Mean4\n",
        "        su3=su3+su*se\n",
        "  covariance=su3/len(list10)\n",
        "  return covariance\n",
        "c=covariance(Spend,sales)\n",
        "correlation=c/(standard_deviation_spend*standard_deviation_sales)\n",
        "print(\"Covariance is\",c)\n",
        "print(\"Correlation is\",correlation)"
      ],
      "metadata": {
        "colab": {
          "base_uri": "https://localhost:8080/"
        },
        "id": "f667sZYUmfVH",
        "outputId": "fc68d25b-8342-4623-edf6-00f006b78c2c"
      },
      "execution_count": null,
      "outputs": [
        {
          "output_type": "stream",
          "name": "stdout",
          "text": [
            "20.0\n",
            "Covariance is 260.0\n",
            "Correlation is 0.9970544855015816\n"
          ]
        }
      ]
    },
    {
      "cell_type": "code",
      "source": [
        "#5. Dataset: Study Hours: 2, 4, 6, 8, 10; Exam Scores: 55, 60, 65, 70, 75\n",
        "#Questions: a) Calculate the correlation coefficient between study hours and exam scores.\n",
        "#b) Interpret the result.\n",
        "#c) Quartiles and IQR\n",
        "hours=[2,4, 6, 8, 10]\n",
        "scores=[55, 60, 65, 70, 75]\n",
        "mean5=mean(hours)\n",
        "print(mean5)\n",
        "\n",
        "Mean5=mean(scores)\n",
        "print(Mean5)\n",
        "variance_hours=variance(hours)\n",
        "variance_scores=variance(scores)\n",
        "standard_deviation_hours=variance_hours**(1/2)\n",
        "standard_deviation_scores=variance_scores**(1/2)\n",
        "def covariance_5(list10,list11):\n",
        "  su3=0\n",
        "  for d in range(len(list10)):\n",
        "    for f in range(len(list11)):\n",
        "      if d==f:\n",
        "        su=list10[d]-mean5\n",
        "        se=list11[f]-Mean5\n",
        "        su3=su3+su*se\n",
        "  covariance5=su3/len(list10)\n",
        "  return covariance5\n",
        "v=covariance_5(hours,scores)\n",
        "correlation5=v/(standard_deviation_hours*standard_deviation_scores)\n",
        "print(\"Covariance is\",v)\n",
        "print(\"Correlation is\",correlation5)\n",
        "print(\"0.99999999 is very close to +1, therefore it is positively correlated\")\n",
        "\n",
        "import statistics\n",
        "\n",
        "quartiles = statistics.quantiles(hours, n=4)  # Divides data into 4 parts\n",
        "quartiles1 = statistics.quantiles(scores, n=4)\n",
        "print(\"Quariles of study hours are\")\n",
        "print(\"Q1:\", quartiles[0])\n",
        "print(\"Q2 (Median):\", statistics.median(hours))  # Q2 is the median\n",
        "print(\"Q3:\", quartiles[2])\n",
        "print(\"IQR of study hours is\",quartiles[2]-quartiles[0])\n",
        "print(\"Quariles of exam score are\")\n",
        "print(\"Q1:\", quartiles1[0])\n",
        "print(\"Q2 (Median):\", statistics.median(scores))  # Q2 is the median\n",
        "print(\"Q3:\", quartiles1[2])\n",
        "print(\"IQR of exam scores are\",quartiles1[2]-quartiles1[0])"
      ],
      "metadata": {
        "id": "HMcOFZ7bmtfA",
        "colab": {
          "base_uri": "https://localhost:8080/"
        },
        "outputId": "b46c2178-b7be-4d7f-faf6-970967c777bf"
      },
      "execution_count": null,
      "outputs": [
        {
          "output_type": "stream",
          "name": "stdout",
          "text": [
            "6.0\n",
            "65.0\n",
            "Covariance is 20.0\n",
            "Correlation is 0.9999999999999998\n",
            "0.99999999 is very close to +1, therefore it is positively correlated\n",
            "Quariles of study hours are\n",
            "Q1: 3.0\n",
            "Q2 (Median): 6\n",
            "Q3: 9.0\n",
            "IQR of study hours is 6.0\n",
            "Quariles of exam score are\n",
            "Q1: 57.5\n",
            "Q2 (Median): 65\n",
            "Q3: 72.5\n",
            "Quariles of exam scores are 15.0\n"
          ]
        }
      ]
    },
    {
      "cell_type": "code",
      "source": [
        "#6. Dataset: Monthly savings (in $): 200, 300, 400, 500, 600, 700, 800, 900, 1000,1100 Questions: a) Calculate the first quartile (Q1) and third quartile (Q3).\n",
        "#b) Calculate the interquartile range (IQR).\n",
        "#c) Detecting Outliers\n",
        "savings=[200, 300, 400, 500, 600, 700, 800, 900, 1000,1100]\n",
        "quartiles2 = statistics.quantiles(savings, n=4)\n",
        "print(\"Q1:\", quartiles2[0])\n",
        "print(\"Q3:\", quartiles2[2])\n",
        "print(\"IQR of exam scores are\",quartiles2[2]-quartiles2[0])\n",
        "IQR1=quartiles2[2]-quartiles2[0]\n",
        "Lower_whisker1=quartiles2[0]-IQR1*1.5\n",
        "Upper_whisker1=quartiles2[2]+IQR1*1.5\n",
        "print(\"Lower bound\",Lower_whisker1)\n",
        "print(\"upper bound\",Upper_whisker1)\n",
        "k=[]\n",
        "for r in savings:\n",
        "    if r<Lower_whisker1 or r>Upper_whisker1:\n",
        "      k.append(r)\n",
        "if len(k)==0:\n",
        "  print(\"No outliers\")\n",
        "else:\n",
        "  print(k)"
      ],
      "metadata": {
        "id": "g61BDPgsmxTy",
        "colab": {
          "base_uri": "https://localhost:8080/"
        },
        "outputId": "6fa8ac15-dae1-4ecb-fa5c-7c28331ba32b"
      },
      "execution_count": null,
      "outputs": [
        {
          "output_type": "stream",
          "name": "stdout",
          "text": [
            "Q1: 375.0\n",
            "Q3: 925.0\n",
            "IQR of exam scores are 550.0\n",
            "Lower bound -450.0\n",
            "upper bound 1750.0\n",
            "No outliers\n"
          ]
        }
      ]
    },
    {
      "cell_type": "code",
      "source": [
        "#Dataset: Ages of employees: 22, 25, 28, 30, 35, 40, 45, 50, 55, 100\n",
        "#Questions: a) Identify any outliers using the IQR method.\n",
        "ages=[22, 25, 28, 30, 35, 40, 45, 50, 55, 100]\n",
        "quartiles2 = statistics.quantiles(ages, n=4)\n",
        "q1=quartiles2[0]\n",
        "q3=quartiles2[2]\n",
        "IQR2=q3-q1\n",
        "Lower_whisker2=q1-IQR2*1.5\n",
        "Upper_whisker2=q3+IQR2*1.5\n",
        "print(\"Lower bound\",Lower_whisker2)\n",
        "print(\"upper bound\",Upper_whisker2)\n",
        "t=[]\n",
        "for y in ages:\n",
        "    if y<Lower_whisker2 or y>Upper_whisker2:\n",
        "      t.append(y)\n",
        "if len(t)==0:\n",
        "  print(\"No outliers\")\n",
        "else:\n",
        "  print(t)"
      ],
      "metadata": {
        "id": "xaikm8OoFWL1",
        "colab": {
          "base_uri": "https://localhost:8080/"
        },
        "outputId": "430e4c32-a1d4-4929-d186-c4e8e4ce8f45"
      },
      "execution_count": null,
      "outputs": [
        {
          "output_type": "stream",
          "name": "stdout",
          "text": [
            "Lower bound -8.75\n",
            "upper bound 87.25\n",
            "[100]\n"
          ]
        }
      ]
    },
    {
      "cell_type": "code",
      "source": [
        "#8.Dataset: Observed frequencies of customer preferences for three products\n",
        "#Product A: 50, 55, 60\n",
        "#Product B: 30, 25, 35\n",
        "#Product C: 20, 20, 25\n",
        "#Questions: a) Perform a chi-square test to determine if there is a significant\n",
        "#difference in customer preferences among the three products. b) Hypothesis Testing\n",
        "dataset=[[50,55,60],[30,25,35],[20,20,25]]\n",
        "col_sum=[]\n",
        "row_sum=[]\n",
        "for u in range(0,3):#founding column sum\n",
        "  sum2=0\n",
        "  for b in range(0,3):\n",
        "    sum2=sum2+dataset[u][b]\n",
        "  col_sum.append(sum2)\n",
        "print(\"column sum\",col_sum)\n",
        "for y in range(0,3):#finding row sum\n",
        "  sum1=0\n",
        "  for l in range(0,3):\n",
        "    sum1=sum1+dataset[l][y]\n",
        "  row_sum.append(sum1)\n",
        "print(\"row sum\",row_sum)\n",
        "m=[[],[],[]]\n",
        "for i in range(0,3):#finding expected value\n",
        "  for j in range(0,3):\n",
        "    m[i].append((row_sum[j]*col_sum[i])/sum(row_sum))\n",
        "print(\"expected values\",m)\n",
        "print(\"observed values\",dataset)\n",
        "chi_square=0#finding chi square value\n",
        "for u in range(0,3):\n",
        "  for y in range(0,3):\n",
        "    chi_square=chi_square+(dataset[y][u]-m[y][u])**2/m[y][u]\n",
        "print(\"Chi_square is\",chi_square)\n",
        "print(\"degrees of freedom is\",(len(row_sum)-1)*(len(col_sum)-1))\n",
        "critical_value=9.488\n",
        "if chi_square>critical_value:\n",
        "  print(\"Reject H0 \")\n",
        "else:\n",
        "  print(\"Accept H0-no difference\")"
      ],
      "metadata": {
        "colab": {
          "base_uri": "https://localhost:8080/"
        },
        "id": "cJx3MgEJfz8F",
        "outputId": "88b6b958-1d5a-400c-84a8-a68448ffad13"
      },
      "execution_count": null,
      "outputs": [
        {
          "output_type": "stream",
          "name": "stdout",
          "text": [
            "column sum [165, 90, 65]\n",
            "row sum [100, 100, 120]\n",
            "expected values [[51.5625, 51.5625, 61.875], [28.125, 28.125, 33.75], [20.3125, 20.3125, 24.375]]\n",
            "observed values [[50, 55, 60], [30, 25, 35], [20, 20, 25]]\n",
            "Chi_square is 0.8774928774928774\n",
            "degrees of freedom is 4\n",
            "Accept H0-no difference\n"
          ]
        }
      ]
    },
    {
      "cell_type": "code",
      "source": [
        "#9.Dataset: Sample weights (in kg) of a new diet program: 70, 68, 72, 71, 69, 7372, 74, 70, 71\n",
        "#Questions: a) Test the hypothesis that the mean weight after the\n",
        "#diet program is equal to 70 kg at a 5% significance level. b) Z-Scores\n",
        "weight=[70, 68, 72, 71, 69, 73,72, 74, 70, 71]\n",
        "Pop_mean=70\n",
        "critical=2.262\n",
        "h0=\"weight is 70- accept null hypotheis\"\n",
        "h1=\"weight is not 70 - reject null hypothesis\"\n",
        "mean9=mean(weight)\n",
        "sum9=0\n",
        "for p in weight:\n",
        "  sum9=sum9+(p-mean9)**2\n",
        "s=(sum9/len(weight)-1)**0.5\n",
        "t=(mean9-Pop_mean)/(s/(len(weight))**0.5)\n",
        "if t>2.262:\n",
        "  print(h1)\n",
        "else:\n",
        "  print(h0)\n",
        "variance9=variance(weight)\n",
        "standard_deviation_weight=variance9**(1/2)\n",
        "o=[]\n",
        "sum9=0\n",
        "for w in weight:\n",
        "    sum9=(w-mean9)/standard_deviation_weight\n",
        "    o.append(sum9)\n",
        "print(\"the z scores are\",l)"
      ],
      "metadata": {
        "id": "rjVWkcipKf5d",
        "colab": {
          "base_uri": "https://localhost:8080/"
        },
        "outputId": "2b441d0b-e505-490f-8345-0800eddecf6c"
      },
      "execution_count": null,
      "outputs": [
        {
          "output_type": "stream",
          "name": "stdout",
          "text": [
            "weight is 70- accept null hypotheis\n",
            "the z scores are [-1.5403080924308108, -1.2602520756252087, -0.8401680504168059, -0.5601120336112039, -0.14002800840280097, 0.14002800840280097, 0.5601120336112039, 0.8401680504168059, 1.2602520756252087, 1.5403080924308108]\n"
          ]
        }
      ]
    },
    {
      "cell_type": "code",
      "source": [
        "#10. Dataset: Annual salaries of employees (in $1000s): 40, 42, 45, 47, 50, 52, 55,57, 60, 62 Questions: a) Calculate the z-scores for each salary.\n",
        "#b) Interpret the z-scores.\n",
        "#c) Normal Distribution\n",
        "annual=[40, 42, 45, 47, 50, 52, 55,57, 60, 62]\n",
        "mean10=mean(annual)\n",
        "variance10=variance(annual)\n",
        "standard_deviation_annual=variance10**(1/2)\n",
        "l=[]\n",
        "sum3=0\n",
        "for w in annual:\n",
        "    sum3=(w-mean10)/standard_deviation_annual\n",
        "    l.append(sum3)\n",
        "print(\"the z scores are\",l)\n",
        "data=[]\n",
        "data1=[]\n",
        "data2=[]\n",
        "for u in range(0,len(l)-1):\n",
        "  if l[u]<0:\n",
        "    data.append(annual[u])\n",
        "  elif l[u]>0:\n",
        "    data1.append(annual[u])\n",
        "  else:\n",
        "    data2.append(annual[u])\n",
        "print(\"Salary less than mean value\",data)\n",
        "print(\"Salary greater than mean value\",data1)\n",
        "print(\"Salary equal to mean value\",data2)"
      ],
      "metadata": {
        "id": "gSUGaCtUKhNv",
        "colab": {
          "base_uri": "https://localhost:8080/"
        },
        "outputId": "dbd7df3e-e5e1-4e51-ab65-cffa90c6e45a"
      },
      "execution_count": null,
      "outputs": [
        {
          "output_type": "stream",
          "name": "stdout",
          "text": [
            "the z scores are [-1.5403080924308108, -1.2602520756252087, -0.8401680504168059, -0.5601120336112039, -0.14002800840280097, 0.14002800840280097, 0.5601120336112039, 0.8401680504168059, 1.2602520756252087, 1.5403080924308108]\n",
            "Salary less than mean value [40, 42, 45, 47, 50]\n",
            "Salary greater than mean value [52, 55, 57, 60]\n",
            "Salary equal to mean value []\n"
          ]
        }
      ]
    },
    {
      "cell_type": "code",
      "source": [
        "#11. . Dataset: Scores of students in a standardized test: 85, 87, 90, 92, 95, 97,\n",
        "100, 102, 105, 107\n",
        "#Questions: a) Create a histogram of the test scores.\n",
        "#b) Fit a normal distribution to the data and calculate the mean and standard\n",
        "#deviation.\n",
        "#c) P-Values"
      ],
      "metadata": {
        "id": "m33VbLSNKocR"
      },
      "execution_count": null,
      "outputs": []
    },
    {
      "cell_type": "code",
      "source": [
        "#12. Dataset: Sample data of a new drug's effect on blood pressure reduction (inmmHg): 10, 12, 14, 15, 13, 16, 18, 17, 19, 20\n",
        "#Questions: a) Perform a t-test to determine if the new drug has a significant effect\n",
        "#on blood pressure reduction. b) Report the p-value and interpret the results. c)Confidence Intervals\n",
        "drug=[10, 12, 14, 15, 13, 16, 18, 17, 19, 20]\n"
      ],
      "metadata": {
        "id": "hTE71hxCAch8"
      },
      "execution_count": null,
      "outputs": []
    }
  ]
}