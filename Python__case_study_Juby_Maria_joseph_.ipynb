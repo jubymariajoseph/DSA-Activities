{
  "nbformat": 4,
  "nbformat_minor": 0,
  "metadata": {
    "colab": {
      "provenance": [],
      "authorship_tag": "ABX9TyNLZvPlDCw90IRqC6W4Wn7u",
      "include_colab_link": true
    },
    "kernelspec": {
      "name": "python3",
      "display_name": "Python 3"
    },
    "language_info": {
      "name": "python"
    }
  },
  "cells": [
    {
      "cell_type": "markdown",
      "metadata": {
        "id": "view-in-github",
        "colab_type": "text"
      },
      "source": [
        "<a href=\"https://colab.research.google.com/github/jubymariajoseph/DSA-Activities/blob/main/Python__case_study_Juby_Maria_joseph_.ipynb\" target=\"_parent\"><img src=\"https://colab.research.google.com/assets/colab-badge.svg\" alt=\"Open In Colab\"/></a>"
      ]
    },
    {
      "cell_type": "code",
      "execution_count": 7,
      "metadata": {
        "colab": {
          "base_uri": "https://localhost:8080/"
        },
        "id": "LfrArWMimd-Z",
        "outputId": "eb7184f5-db60-4ff4-cb1e-293fe69a4eae"
      },
      "outputs": [
        {
          "output_type": "execute_result",
          "data": {
            "text/plain": [
              "(1, 66)"
            ]
          },
          "metadata": {},
          "execution_count": 7
        }
      ],
      "source": [
        "#Q1.Write a function that return the range (maximum and minimum) of a given list of numbers\n",
        "def max_min(list1):\n",
        "  list1.sort()\n",
        "  return(list1[0],list1[len(list1)-1])\n",
        "max_min([2,4,1,66,34,22])"
      ]
    },
    {
      "cell_type": "code",
      "source": [
        "# Q2. Write function that returns mean value of a list of numbers\n",
        "def mean(list2):\n",
        "  sum=0\n",
        "  for i in list2:\n",
        "    sum=sum+i\n",
        "    mean=sum/len(list2)\n",
        "  return mean\n",
        "s=mean([2,5,3,7,10])\n",
        "print(\"Mean is\",s)"
      ],
      "metadata": {
        "colab": {
          "base_uri": "https://localhost:8080/"
        },
        "id": "-MdnUIbPpRx_",
        "outputId": "ce11aaf8-348b-4cc4-c2b4-046853d1c972"
      },
      "execution_count": 12,
      "outputs": [
        {
          "output_type": "stream",
          "name": "stdout",
          "text": [
            "Mean is 5.4\n"
          ]
        }
      ]
    },
    {
      "cell_type": "code",
      "source": [
        "# Q3. Write a function that returns the median value of a list of numbers\n",
        "def median(list3):\n",
        "  list3.sort()\n",
        "  if len(list3)%2!=0:\n",
        "    median=list3[len(list3)//2]\n",
        "  else:\n",
        "    mid1=list3[len(list3)//2-1]\n",
        "    mid2=list3[len(list3)//2]\n",
        "    median=(mid1+mid2)/2\n",
        "  return median\n",
        "m=median([7,3,5,66,2,22])\n",
        "print(\"Median is\",m)"
      ],
      "metadata": {
        "colab": {
          "base_uri": "https://localhost:8080/"
        },
        "id": "J2ciZGXVsYVF",
        "outputId": "e79121dc-0852-4e61-cfb6-d7b67199177a"
      },
      "execution_count": 15,
      "outputs": [
        {
          "output_type": "stream",
          "name": "stdout",
          "text": [
            "Median is 6.0\n"
          ]
        }
      ]
    },
    {
      "cell_type": "code",
      "source": [
        "\"\"\"Q4. Write a function to return the mod of a list of numbers, if no mod exists, it should return None.\n",
        " If more than one mod exist, return the mod values as list\"\"\"\n",
        "def mode1(list4):\n",
        "  data4=[]\n",
        "  set1=set()\n",
        "  for j in list4:\n",
        "    count=0\n",
        "    for u in range(0,len(list4)):\n",
        "      if list4[u]==j:\n",
        "        count=count+1\n",
        "    data4.append(count)\n",
        "  if max(data4)>1:\n",
        "    d=data4[0]\n",
        "    for i in data4:\n",
        "      if d<i:\n",
        "        d=i\n",
        "    for h in range(0,len(data4)):\n",
        "      if d==data4[h]:\n",
        "        set1.add(list4[h])\n",
        "        w=list(set1)\n",
        "    return w\n",
        "  else:\n",
        "    return None\n",
        "f=mode1([2,5,5,2,33,66])\n",
        "print(\"mode is\",f)"
      ],
      "metadata": {
        "colab": {
          "base_uri": "https://localhost:8080/"
        },
        "id": "R5nvFs1iuRs3",
        "outputId": "f1c40b48-33de-41ca-cc77-10f11e7eb4cd"
      },
      "execution_count": 21,
      "outputs": [
        {
          "output_type": "stream",
          "name": "stdout",
          "text": [
            "mode is [2, 5]\n"
          ]
        }
      ]
    },
    {
      "cell_type": "code",
      "source": [
        "# Q5. Write function to compute a given percentile value (e.g. 90th percentile) of a list of numbers\n",
        "def percentile(list5):\n",
        "  list5.sort()\n",
        "  n=int(input(\"Enter the percentile:\"))\n",
        "  q1=int(len(list5)*(n/100))\n",
        "  percentile_n=list5[q1-1]\n",
        "  return percentile_n\n",
        "s=percentile([2,1,78,33,56,23,71,34,55,43,38,21])\n",
        "print(f\"Percentile is {s}\")"
      ],
      "metadata": {
        "colab": {
          "base_uri": "https://localhost:8080/"
        },
        "id": "ASBeh8oOyP8-",
        "outputId": "dc8edd25-f59d-4226-a03e-30a913c0a64a"
      },
      "execution_count": 31,
      "outputs": [
        {
          "output_type": "stream",
          "name": "stdout",
          "text": [
            "Enter the percentile:90\n",
            "Percentile is 56\n"
          ]
        }
      ]
    },
    {
      "cell_type": "code",
      "source": [
        "# Q6. Write a function that returns the lower bound of a list of numbers\n",
        "def lower_bound(list6):\n",
        "  list6.sort()\n",
        "  q1=int(len(list6)*(1/4))\n",
        "  q3=int(len(list6)*(3/4))\n",
        "  IQR=list6[q3-1]-list6[q1-1]\n",
        "  Lower_whisker=list6[q1-1]-IQR*1.5\n",
        "  Lower_bound=list6[q1-1]\n",
        "  return Lower_bound\n",
        "g=lower_bound([4,2,66,55,33,22,11,7])\n",
        "print(\"Lower bound is\",g)"
      ],
      "metadata": {
        "colab": {
          "base_uri": "https://localhost:8080/"
        },
        "id": "QRbe541M1MSC",
        "outputId": "c62c89a1-b4f9-4e6d-ca03-9a844b63dbbe"
      },
      "execution_count": 32,
      "outputs": [
        {
          "output_type": "stream",
          "name": "stdout",
          "text": [
            "Lower bound is 4\n"
          ]
        }
      ]
    },
    {
      "cell_type": "code",
      "source": [
        "# Q7. Write function to return any outliers from a given list of numbers, if no outliers present it should return None\n",
        "def outliers(list7):\n",
        "  list7.sort()\n",
        "  k=[]\n",
        "  q1=int(len(list7)*(1/4))\n",
        "  q3=int(len(list7)*(3/4))\n",
        "  IQR=list7[q3-1]-list7[q1-1]\n",
        "  Lower_whisker1=list7[q1-1]-IQR*1.5\n",
        "  Upper_whisker1=list7[q3-1]+IQR*1.5\n",
        "  print(\"Lower bound\",Lower_whisker1)\n",
        "  print(\"upper bound\",Upper_whisker1)\n",
        "  for r in list7:\n",
        "    if r<Lower_whisker1 or r>Upper_whisker1:\n",
        "      k.append(r)\n",
        "  return k\n",
        "b=outliers([3,2,300,12,301,33,100,78])\n",
        "print(b)"
      ],
      "metadata": {
        "colab": {
          "base_uri": "https://localhost:8080/"
        },
        "id": "Hllh2huf2V-G",
        "outputId": "e0c98304-f8f7-43e9-eacc-cffca586ec0b"
      },
      "execution_count": 69,
      "outputs": [
        {
          "output_type": "stream",
          "name": "stdout",
          "text": [
            "Lower bound -142.5\n",
            "upper bound 245.5\n",
            "[300, 301]\n"
          ]
        }
      ]
    },
    {
      "cell_type": "code",
      "source": [
        "#Q8. Write a function to return standard deviation of a list of numbers\n",
        "def Standard_deviation(list8):\n",
        "  initial=0\n",
        "  sum4=0#mean of sales\n",
        "  for i in list8:\n",
        "    sum4=sum4+i\n",
        "  mean4=sum4/len(list8)\n",
        "  for f in list8:\n",
        "    summ=(f-mean4)**2\n",
        "    initial=summ+initial\n",
        "  variance3=initial/len(list8)\n",
        "  standard_deviation1=variance3**(1/2)\n",
        "  return standard_deviation1\n",
        "z=Standard_deviation([4,6,1,3,7])\n",
        "print(\"Standard deviation\",z)"
      ],
      "metadata": {
        "colab": {
          "base_uri": "https://localhost:8080/"
        },
        "id": "SKLMuQle9JjN",
        "outputId": "19360a72-fb78-4b6b-d7c5-69c7f8993cd6"
      },
      "execution_count": 70,
      "outputs": [
        {
          "output_type": "stream",
          "name": "stdout",
          "text": [
            "Standard deviation 2.1354156504062622\n"
          ]
        }
      ]
    },
    {
      "cell_type": "code",
      "source": [
        "## Q9. Write function to compute and return Z-score values of a list of numbers\n",
        "def Z(list9):\n",
        "  initial2=0\n",
        "  l=[]\n",
        "  sum5=0#mean of sales\n",
        "  for i in list9:\n",
        "    sum5=sum5+i\n",
        "  mean5=sum5/len(list9)\n",
        "  for f in list9:\n",
        "    summ1=(f-mean5)**2\n",
        "    initial2=summ1+initial2\n",
        "  variance2=initial2/len(list9)\n",
        "  standard_deviation1=variance2**(1/2)\n",
        "  for r in list9:\n",
        "    sum3=(r-mean5)/standard_deviation1\n",
        "    l.append(sum3)\n",
        "  return l\n",
        "x=Z([2,4,5,11,13])\n",
        "print(\"Z-score is\",x)"
      ],
      "metadata": {
        "colab": {
          "base_uri": "https://localhost:8080/"
        },
        "id": "p5PiWU77_Ud1",
        "outputId": "d926e49a-5cde-4e4f-8513-7ac09ef9e041"
      },
      "execution_count": 71,
      "outputs": [
        {
          "output_type": "stream",
          "name": "stdout",
          "text": [
            "Z is [-1.1785113019775793, -0.7071067811865476, -0.47140452079103173, 0.9428090415820635, 1.4142135623730951]\n"
          ]
        }
      ]
    },
    {
      "cell_type": "code",
      "source": [
        "# Q10. Write a function to compute and return the Pearson correlation coefficient value of two list of numbers\n",
        "def pearson_correlation_coefficient(list10,list11):\n",
        "  su3=0\n",
        "  mean10=mean(list10)\n",
        "  Mean10=mean(list11)\n",
        "  standard_deviation10=Standard_deviation(list10)\n",
        "  Standard_deviation10=Standard_deviation(list11)\n",
        "  su3=0\n",
        "  for d in range(len(list10)):\n",
        "    for f in range(len(list11)):\n",
        "      if d==f:\n",
        "        su=list10[d]-mean10\n",
        "        se=list11[f]-Mean10\n",
        "        su3=su3+su*se\n",
        "  covariance=su3/len(list10)\n",
        "  correlation=covariance/(standard_deviation10*Standard_deviation10)\n",
        "  return correlation\n",
        "c=pearson_correlation_coefficient([2,5,6,3,1],[3,8,9,10,1])\n",
        "print(\"Pearson coefficient is\",c)"
      ],
      "metadata": {
        "colab": {
          "base_uri": "https://localhost:8080/"
        },
        "id": "e2N_E8BwBiW-",
        "outputId": "0a952c73-49fd-4a85-8af2-0da3bd8bca66"
      },
      "execution_count": 76,
      "outputs": [
        {
          "output_type": "stream",
          "name": "stdout",
          "text": [
            "pearson coefficient is 0.7789254968480961\n"
          ]
        }
      ]
    }
  ]
}