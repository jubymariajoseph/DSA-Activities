{
  "nbformat": 4,
  "nbformat_minor": 0,
  "metadata": {
    "colab": {
      "provenance": [],
      "authorship_tag": "ABX9TyOgQ+mA2CmSHm+sjeyxKcGy",
      "include_colab_link": true
    },
    "kernelspec": {
      "name": "python3",
      "display_name": "Python 3"
    },
    "language_info": {
      "name": "python"
    }
  },
  "cells": [
    {
      "cell_type": "markdown",
      "metadata": {
        "id": "view-in-github",
        "colab_type": "text"
      },
      "source": [
        "<a href=\"https://colab.research.google.com/github/jubymariajoseph/DSA-Activities/blob/main/Basics.ipynb\" target=\"_parent\"><img src=\"https://colab.research.google.com/assets/colab-badge.svg\" alt=\"Open In Colab\"/></a>"
      ]
    },
    {
      "cell_type": "markdown",
      "source": [
        "#***Exploring python notebook***\n",
        "Here we are exporing some basic operations using google colab. A virtual machine is used to execute the program. Google will provide the required machine when needed. A virtual memory is present to store the data. shift+enter can be used to run the cell. ctrl+\\ to put comment."
      ],
      "metadata": {
        "id": "2bGl-WRglApz"
      }
    },
    {
      "cell_type": "code",
      "execution_count": null,
      "metadata": {
        "colab": {
          "base_uri": "https://localhost:8080/"
        },
        "id": "1uOsfxTvgS_Q",
        "outputId": "83dc4627-3ca7-473c-d57b-7d9fea2e1ddb"
      },
      "outputs": [
        {
          "output_type": "stream",
          "name": "stdout",
          "text": [
            "hello world\n"
          ]
        }
      ],
      "source": [
        "print('hello world')#printing the phrase hello world\n"
      ]
    },
    {
      "cell_type": "markdown",
      "source": [
        "#topic1"
      ],
      "metadata": {
        "id": "OOXJ3GmGnvrK"
      }
    },
    {
      "cell_type": "code",
      "source": [
        "print('why')"
      ],
      "metadata": {
        "colab": {
          "base_uri": "https://localhost:8080/"
        },
        "id": "VDKc-8n2j_Ih",
        "outputId": "77b6f8e8-ae05-4673-eac3-d118f3137db7"
      },
      "execution_count": null,
      "outputs": [
        {
          "output_type": "stream",
          "name": "stdout",
          "text": [
            "why\n"
          ]
        }
      ]
    },
    {
      "cell_type": "markdown",
      "source": [
        "##subheading"
      ],
      "metadata": {
        "id": "wvsE7VUNn1tp"
      }
    },
    {
      "cell_type": "code",
      "source": [
        "print('should')"
      ],
      "metadata": {
        "colab": {
          "base_uri": "https://localhost:8080/"
        },
        "id": "rfGqDXZEn1Fh",
        "outputId": "3622bddb-82b2-4f01-b08a-66cdb7cbddbb"
      },
      "execution_count": null,
      "outputs": [
        {
          "output_type": "stream",
          "name": "stdout",
          "text": [
            "should\n"
          ]
        }
      ]
    },
    {
      "cell_type": "code",
      "source": [
        "age=40.\n",
        "print(age)\n",
        "type(age)#to get datatype"
      ],
      "metadata": {
        "colab": {
          "base_uri": "https://localhost:8080/"
        },
        "id": "Qo1UPMwjLT-M",
        "outputId": "fb11d617-a279-49ba-91bf-5c01aacc3ba1"
      },
      "execution_count": null,
      "outputs": [
        {
          "output_type": "stream",
          "name": "stdout",
          "text": [
            "40.0\n"
          ]
        },
        {
          "output_type": "execute_result",
          "data": {
            "text/plain": [
              "float"
            ]
          },
          "metadata": {},
          "execution_count": 2
        }
      ]
    },
    {
      "cell_type": "code",
      "source": [
        "list(range(8,-1,-2))\n",
        "details={'sam':7,'div':8}\n",
        "details['div']\n",
        "type(details)\n",
        "details.keys()#to get key values\n",
        "details.values()#to get values\n",
        "details['location']='tvm'# to add another key and its value\n",
        "print(details)\n",
        "colours={'red','green','red','green'}\n",
        "print(colours)\n",
        "type(colours)"
      ],
      "metadata": {
        "colab": {
          "base_uri": "https://localhost:8080/"
        },
        "id": "u88USkdkOpyo",
        "outputId": "f92c7995-9b92-4c14-cca6-2f1b66ef5f77"
      },
      "execution_count": null,
      "outputs": [
        {
          "output_type": "stream",
          "name": "stdout",
          "text": [
            "{'sam': 7, 'div': 8, 'location': 'tvm'}\n",
            "{'green', 'red'}\n"
          ]
        },
        {
          "output_type": "execute_result",
          "data": {
            "text/plain": [
              "set"
            ]
          },
          "metadata": {},
          "execution_count": 32
        }
      ]
    },
    {
      "cell_type": "code",
      "source": [
        "age=2.5+6j\n",
        "print(age)\n",
        "type(age)\n",
        "days=['mon','tue','wed','sun']\n",
        "print(days)\n",
        "type(days)\n",
        "days[3]"
      ],
      "metadata": {
        "colab": {
          "base_uri": "https://localhost:8080/",
          "height": 70
        },
        "id": "yLR_3v9ZLTr1",
        "outputId": "b912f34c-2a97-4523-b869-554d3a502186"
      },
      "execution_count": null,
      "outputs": [
        {
          "output_type": "stream",
          "name": "stdout",
          "text": [
            "(2.5+6j)\n",
            "['mon', 'tue', 'wed', 'sun']\n"
          ]
        },
        {
          "output_type": "execute_result",
          "data": {
            "text/plain": [
              "'sun'"
            ],
            "application/vnd.google.colaboratory.intrinsic+json": {
              "type": "string"
            }
          },
          "metadata": {},
          "execution_count": 7
        }
      ]
    },
    {
      "cell_type": "code",
      "source": [
        "birth_year=1998\n",
        "age=2025-birth_year\n",
        "print('Your age=',age)\n",
        "Biodata={'name':'Juby','age':23,'Location':'Kottayam'}\n",
        "print(\"Biodata is \",Biodata)"
      ],
      "metadata": {
        "colab": {
          "base_uri": "https://localhost:8080/"
        },
        "id": "xtXK_v7zUJH4",
        "outputId": "300db9f0-6372-4593-ab6b-77064adffb25"
      },
      "execution_count": null,
      "outputs": [
        {
          "output_type": "stream",
          "name": "stdout",
          "text": [
            "Your age= 27\n",
            "Biodata is  {'name': 'Juby', 'age': 23, 'Location': 'Kottayam'}\n"
          ]
        }
      ]
    },
    {
      "cell_type": "code",
      "source": [
        "list(range(99,0,-2))"
      ],
      "metadata": {
        "colab": {
          "base_uri": "https://localhost:8080/"
        },
        "collapsed": true,
        "id": "BzAGsiUTOpvQ",
        "outputId": "a9b54ee6-a278-44a3-9ad4-2b13a83dc548"
      },
      "execution_count": null,
      "outputs": [
        {
          "output_type": "execute_result",
          "data": {
            "text/plain": [
              "[99,\n",
              " 97,\n",
              " 95,\n",
              " 93,\n",
              " 91,\n",
              " 89,\n",
              " 87,\n",
              " 85,\n",
              " 83,\n",
              " 81,\n",
              " 79,\n",
              " 77,\n",
              " 75,\n",
              " 73,\n",
              " 71,\n",
              " 69,\n",
              " 67,\n",
              " 65,\n",
              " 63,\n",
              " 61,\n",
              " 59,\n",
              " 57,\n",
              " 55,\n",
              " 53,\n",
              " 51,\n",
              " 49,\n",
              " 47,\n",
              " 45,\n",
              " 43,\n",
              " 41,\n",
              " 39,\n",
              " 37,\n",
              " 35,\n",
              " 33,\n",
              " 31,\n",
              " 29,\n",
              " 27,\n",
              " 25,\n",
              " 23,\n",
              " 21,\n",
              " 19,\n",
              " 17,\n",
              " 15,\n",
              " 13,\n",
              " 11,\n",
              " 9,\n",
              " 7,\n",
              " 5,\n",
              " 3,\n",
              " 1]"
            ]
          },
          "metadata": {},
          "execution_count": 50
        }
      ]
    },
    {
      "cell_type": "code",
      "source": [
        "To_do_list=['Complete the presentation','study for presentation','prepare for viva']\n",
        "print(To_do_list)\n",
        "print(To_do_list[1])\n",
        "print(To_do_list[-2])#print second last one in the list\n",
        "name='Juby'\n",
        "print(len(name))#PRINT LENGTH OF STRING"
      ],
      "metadata": {
        "colab": {
          "base_uri": "https://localhost:8080/"
        },
        "id": "R8A3REDoa6Nd",
        "outputId": "85980576-66b5-4543-c239-77c2221dd41d"
      },
      "execution_count": null,
      "outputs": [
        {
          "output_type": "stream",
          "name": "stdout",
          "text": [
            "['Complete the presentation', 'study for presentation', 'prepare for viva']\n",
            "study for presentation\n",
            "study for presentation\n",
            "4\n"
          ]
        }
      ]
    },
    {
      "cell_type": "code",
      "source": [
        "num=float(input(\"enter a number:\"))\n",
        "num2=float(input(\"enter second number:\"))\n",
        "sum=num+num2\n",
        "diff=num-num2\n",
        "mul=num*num2\n",
        "div=num/num2\n",
        "\n",
        "print(\"sum is\",sum)\n",
        "print('difference is',diff)\n",
        "print('mutiplication is',mul)\n",
        "print('division is',div)\n",
        "\n",
        "x=int(input('enter your age,'))\n",
        "print(\"your age is \",x)\n",
        "print(f\"you are {x} years old\")"
      ],
      "metadata": {
        "colab": {
          "base_uri": "https://localhost:8080/"
        },
        "id": "4FQdmu-pdvcT",
        "outputId": "e282331b-f5dc-49e9-fd8c-284f1bf1acd4"
      },
      "execution_count": null,
      "outputs": [
        {
          "output_type": "stream",
          "name": "stdout",
          "text": [
            "enter a number:2\n",
            "enter second number:1\n",
            "sum is 3.0\n",
            "difference is 1.0\n",
            "mutiplication is 2.0\n",
            "division is 2.0\n",
            "enter your age,23\n",
            "your age is  23\n",
            "you are23 years old\n"
          ]
        }
      ]
    },
    {
      "cell_type": "code",
      "source": [
        "birthyear=int(input(\"Enter your Birth Year : \"))\n",
        "age=2025-birthyear\n",
        "print(f\"You are born in {birthyear} and you are {age} years old\")"
      ],
      "metadata": {
        "colab": {
          "base_uri": "https://localhost:8080/"
        },
        "id": "hbsf96H3g_eV",
        "outputId": "789e0d27-2372-421a-c0ab-ae66af9710bc"
      },
      "execution_count": null,
      "outputs": [
        {
          "output_type": "stream",
          "name": "stdout",
          "text": [
            "Enter your Birth Year : 2002\n",
            "You are born in 2002 and you are 23 years old\n"
          ]
        }
      ]
    },
    {
      "cell_type": "code",
      "source": [
        "a=2\n",
        "b=0.5\n",
        "expo=a**b\n",
        "floordiv=a//b\n",
        "print(expo)\n",
        "print(floordiv)"
      ],
      "metadata": {
        "colab": {
          "base_uri": "https://localhost:8080/"
        },
        "id": "6pwxhD7SojwE",
        "outputId": "c6b6680d-17e9-4b21-c94f-b29b1d7b4496"
      },
      "execution_count": null,
      "outputs": [
        {
          "output_type": "stream",
          "name": "stdout",
          "text": [
            "1.4142135623730951\n",
            "4.0\n"
          ]
        }
      ]
    },
    {
      "cell_type": "code",
      "source": [
        "print(True and False)#and(logical operators)\n",
        "print(False or False)#or\n",
        "print(not True)#not"
      ],
      "metadata": {
        "colab": {
          "base_uri": "https://localhost:8080/"
        },
        "id": "G8zaQWp-p5Ck",
        "outputId": "b2f3d4fd-a49a-48e3-8f18-80595187e636"
      },
      "execution_count": null,
      "outputs": [
        {
          "output_type": "stream",
          "name": "stdout",
          "text": [
            "False\n",
            "False\n",
            "False\n"
          ]
        }
      ]
    },
    {
      "cell_type": "code",
      "source": [
        "print(1 in (1,2,3))#membership operator\n",
        "print(1 not in [1,2,3])\n",
        "print(1 in {1,2,3})\n",
        "print('d' in ['Juby'])\n",
        "a=10#identity operator\n",
        "b=10\n",
        "print(a is b)\n",
        "c=9\n",
        "d=8\n",
        "print(c is not d)"
      ],
      "metadata": {
        "colab": {
          "base_uri": "https://localhost:8080/"
        },
        "id": "Nq--8Y2yqd1q",
        "outputId": "f6e893b3-18f7-4303-bf49-73bdadf82053"
      },
      "execution_count": null,
      "outputs": [
        {
          "output_type": "stream",
          "name": "stdout",
          "text": [
            "True\n",
            "False\n",
            "True\n",
            "False\n",
            "True\n",
            "True\n"
          ]
        }
      ]
    },
    {
      "cell_type": "code",
      "source": [
        "message=input(\"Enter the greeting message to printed\")\n",
        "times=int(input(\"Enter the number of times the greeting message to be printed\"))\n",
        "display=message*times\n",
        "print(f\"{message}\"*times)"
      ],
      "metadata": {
        "colab": {
          "base_uri": "https://localhost:8080/"
        },
        "id": "7v6lLovXskY_",
        "outputId": "da58335c-9515-4edb-88bc-c7db8e86e552"
      },
      "execution_count": null,
      "outputs": [
        {
          "output_type": "stream",
          "name": "stdout",
          "text": [
            "Enter the greeting message to printedhello\n",
            "Enter the number of times the greeting message to be printed2\n",
            "hellohello\n"
          ]
        }
      ]
    },
    {
      "cell_type": "code",
      "source": [
        "print(\"hello\"[0:5])\n",
        "print(\"hello\"[::-1])\n",
        "print(\"hello\"[5:0:-1])\n",
        "\"ICT Academy of Kerala\".split(\"a\")"
      ],
      "metadata": {
        "colab": {
          "base_uri": "https://localhost:8080/"
        },
        "id": "PVa-pInIuP-R",
        "outputId": "5e9818d4-a704-403e-86bc-b2ef77d582f3"
      },
      "execution_count": null,
      "outputs": [
        {
          "output_type": "stream",
          "name": "stdout",
          "text": [
            "hello\n",
            "olleh\n",
            "olle\n"
          ]
        },
        {
          "output_type": "execute_result",
          "data": {
            "text/plain": [
              "['ICT Ac', 'demy of Ker', 'l', '']"
            ]
          },
          "metadata": {},
          "execution_count": 97
        }
      ]
    },
    {
      "cell_type": "code",
      "source": [
        "string=input(\"enter the string:\")#given string is palindrome or not\n",
        "reverse=string[::-1]\n",
        "string==reverse"
      ],
      "metadata": {
        "colab": {
          "base_uri": "https://localhost:8080/"
        },
        "id": "CltW2aniv6Gs",
        "outputId": "cdd55a63-27bb-4aec-bbf8-f5decdf50101"
      },
      "execution_count": null,
      "outputs": [
        {
          "name": "stdout",
          "output_type": "stream",
          "text": [
            "enter the string:malayalam\n"
          ]
        },
        {
          "output_type": "execute_result",
          "data": {
            "text/plain": [
              "True"
            ]
          },
          "metadata": {},
          "execution_count": 99
        }
      ]
    },
    {
      "cell_type": "code",
      "source": [
        "otp1=int(input(\"enter the first number\"))\n",
        "otp2=int(input(\"enter second\"))\n",
        "otp3=int(input(\"enter the third number\"))\n",
        "otp4=int(input(\"enter fourth\"))\n",
        "#list=[opt1,opt2,opt3,opt4]\n",
        "digit={1:\"one\",2:\"two\",3:\"three\",4:\"four\",5:\"five\"}\n",
        "print(digit[otp1],'-',digit[otp2],'-',digit[otp3],'-',digit[otp4])\n"
      ],
      "metadata": {
        "colab": {
          "base_uri": "https://localhost:8080/"
        },
        "id": "fic_s87xw4Ff",
        "outputId": "c1ebcbf6-1840-49a3-f888-7ba7a751a159"
      },
      "execution_count": null,
      "outputs": [
        {
          "output_type": "stream",
          "name": "stdout",
          "text": [
            "enter the first number2\n",
            "enter second3\n",
            "enter the third number4\n",
            "enter fourth1\n",
            "two - three - four - one\n"
          ]
        }
      ]
    },
    {
      "cell_type": "code",
      "source": [
        "number=input(\"enter the otp:\")#converting the number to words\n",
        "digit={1:\"one\",2:\"two\",3:\"three\",4:\"four\",5:\"five\"}\n",
        "otp0=int(number[0])\n",
        "otp9=int(number[1])\n",
        "otp8=int(number[2])\n",
        "otp7=int(number[3])\n",
        "print(digit[otp0],digit[otp9],digit[otp8],digit[otp7])"
      ],
      "metadata": {
        "colab": {
          "base_uri": "https://localhost:8080/"
        },
        "id": "t6rDcVOpx3qL",
        "outputId": "b975ad39-4de3-4b7c-c1fa-a35415e70e6a"
      },
      "execution_count": null,
      "outputs": [
        {
          "output_type": "stream",
          "name": "stdout",
          "text": [
            "enter the otp:2341\n",
            "two three four one\n"
          ]
        }
      ]
    },
    {
      "cell_type": "code",
      "source": [
        "number=input(\"enter the otp in words with one space between each number:\")#converting the word to number\n",
        "list=number.split(\" \")\n",
        "digit={\"one\":1,\"two\":2,\"three\":3,\"four\":4,\"five\":5, }\n",
        "otp0=list[0]\n",
        "otp9=list[1]\n",
        "otp8=list[2]\n",
        "otp7=list[3]\n",
        "print(digit[otp0],digit[otp9],digit[otp8],digit[otp7])"
      ],
      "metadata": {
        "colab": {
          "base_uri": "https://localhost:8080/"
        },
        "id": "_6PmFLVu3ghn",
        "outputId": "aa1834b4-0029-40ab-e5e4-04e779992974"
      },
      "execution_count": null,
      "outputs": [
        {
          "output_type": "stream",
          "name": "stdout",
          "text": [
            "enter the otp in words with space between each number:one two one two\n",
            "1 2 1 2\n"
          ]
        }
      ]
    },
    {
      "cell_type": "code",
      "source": [
        "birthdate=int(input(\"Enter your birth year:\"))\n",
        "age=2025-birthdate\n",
        "if age>=18:\n",
        "  print(\"your are eligible for vote\")\n",
        "else:\n",
        "  print(\"Not eligible for vote\")\n"
      ],
      "metadata": {
        "colab": {
          "base_uri": "https://localhost:8080/"
        },
        "id": "XFYhjyBvSLUr",
        "outputId": "e79742dc-8cb5-47fc-a36e-a19f5e0970fa"
      },
      "execution_count": null,
      "outputs": [
        {
          "output_type": "stream",
          "name": "stdout",
          "text": [
            "Enter your birth year:2020\n",
            "Not eligible for vote\n"
          ]
        }
      ]
    },
    {
      "cell_type": "code",
      "source": [
        "number=float(input(\"enter a number:\"))\n",
        "if number>0:\n",
        "  print(f\"The number {number} is positive \")\n",
        "elif number==0:\n",
        "  print(f\"the number {number}is zero\")\n",
        "else:\n",
        "  print(f\"The number {number} is negative\")\n"
      ],
      "metadata": {
        "colab": {
          "base_uri": "https://localhost:8080/"
        },
        "id": "lB1xNgQbUqOg",
        "outputId": "9b74ebdb-7c51-499b-8a40-79d48632e119"
      },
      "execution_count": null,
      "outputs": [
        {
          "output_type": "stream",
          "name": "stdout",
          "text": [
            "enter a number:-1\n",
            "The number -1.0 is negative\n"
          ]
        }
      ]
    },
    {
      "cell_type": "code",
      "source": [
        "age1=int(input(\"enter your age:\"))\n",
        "if 0<=age1<=12:\n",
        "  print(\"child category\")\n",
        "elif 13<=age1<=19:\n",
        "  print(\"Teenage category\")\n",
        "elif 20<=age1<=59:\n",
        "  print(\"adult category\")\n",
        "else:\n",
        "  print(\"senior citizen\")"
      ],
      "metadata": {
        "colab": {
          "base_uri": "https://localhost:8080/"
        },
        "id": "8_TkL63JWF4Q",
        "outputId": "841fcc82-6966-4f43-8bb4-17f298743ff5"
      },
      "execution_count": null,
      "outputs": [
        {
          "output_type": "stream",
          "name": "stdout",
          "text": [
            "enter your age:65\n",
            "senior citizen\n"
          ]
        }
      ]
    },
    {
      "cell_type": "code",
      "source": [
        "name=input(\"enter your full name:\")\n",
        "len=len(name)\n",
        "if len>10:\n",
        "  print(\"lengthy name\")\n",
        "else:\n",
        "  print(\"short name\")"
      ],
      "metadata": {
        "colab": {
          "base_uri": "https://localhost:8080/"
        },
        "id": "Y8V-1ZdeZZ-n",
        "outputId": "dfb53922-d348-4d83-f36c-45531c20c4a5"
      },
      "execution_count": null,
      "outputs": [
        {
          "output_type": "stream",
          "name": "stdout",
          "text": [
            "enter your full name:juby maria joseph\n",
            "lengthy name\n"
          ]
        }
      ]
    },
    {
      "cell_type": "code",
      "source": [
        "time=input(\"enter the railway time in HH:MM:\")#convert\n",
        "split=time.split(\":\")\n",
        "if int(split[0])>12:\n",
        "  split1=int(split[0])-12\n",
        "  print(f\"the time is {split1}:{split[1]} pm\")\n",
        "else:\n",
        "  print(f\"the time is {split[0]}:{split[1] }am\")"
      ],
      "metadata": {
        "colab": {
          "base_uri": "https://localhost:8080/"
        },
        "id": "B09j0AxHa7MI",
        "outputId": "eecfac57-4123-42e6-e75c-748e6a5386ab"
      },
      "execution_count": null,
      "outputs": [
        {
          "output_type": "stream",
          "name": "stdout",
          "text": [
            "enter the railway time in HH:MM:15:24\n",
            "the time is 3:24 pm\n"
          ]
        }
      ]
    },
    {
      "cell_type": "code",
      "source": [
        "charac=input(\"enter a string:\")\n",
        "character=charac[::-1]\n",
        "if character==charac:\n",
        "  print(\"palindrome\")\n",
        "else:\n",
        "  print(\"not palindrome\")"
      ],
      "metadata": {
        "colab": {
          "base_uri": "https://localhost:8080/"
        },
        "id": "eh53j6eEf4Nk",
        "outputId": "b4f3a0a3-003e-488e-bce2-f4b3040a1e90"
      },
      "execution_count": null,
      "outputs": [
        {
          "output_type": "stream",
          "name": "stdout",
          "text": [
            "enter a string:malayalam\n",
            "palindrome\n"
          ]
        }
      ]
    },
    {
      "cell_type": "code",
      "source": [
        "colour=input(\"enter your favorite colour in small letters:\")\n",
        "if colour=='red'or colour[0]=='green'or colour[0]=='blue':\n",
        "  print(\"primary colour\")\n",
        "else:\n",
        "  print(\"not in primary colour\")"
      ],
      "metadata": {
        "colab": {
          "base_uri": "https://localhost:8080/"
        },
        "id": "cVfFCSLZg-yf",
        "outputId": "b56b8c37-0ca0-4be4-ff73-452b6aa46b30"
      },
      "execution_count": null,
      "outputs": [
        {
          "output_type": "stream",
          "name": "stdout",
          "text": [
            "enter your favorite colour in small letters:red\n",
            "primary colour\n"
          ]
        }
      ]
    },
    {
      "cell_type": "code",
      "source": [
        "mfd=input(\"enter the manufacturing date in dd/mm/yyyy:\")\n",
        "list3=mfd.split(\"/\")\n",
        "day=int(list3[0])\n",
        "#print(day)\n",
        "month=int(list3[1])\n",
        "year=int(list3[2])\n",
        "if month>=7:\n",
        "  year1=year+1\n",
        "  month1=month+5//12\n",
        "  day1=day\n",
        "  if 2025>=year1:\n",
        "    if 8>=month1:\n",
        "      if 5>=day1:\n",
        "        print(\"expired\")\n",
        "    else:\n",
        "      print(\"not\")\n",
        "  else:\n",
        "    print(\"not\")\n",
        "elif month<7:\n",
        "  year2=year\n",
        "  month2=month+5\n",
        "  day2=day\n",
        "  if 2025==year2:\n",
        "    if 8>=month2:\n",
        "      if 5>=day2:\n",
        "       print(\"expired\")\n",
        "      else:\n",
        "         print(\"not\")\n",
        "    else:\n",
        "       print(\"not\")\n",
        "  else:\n",
        "    print(\"not expired\")\n"
      ],
      "metadata": {
        "colab": {
          "base_uri": "https://localhost:8080/"
        },
        "id": "dac4U3DljvGg",
        "outputId": "55f23b01-ced5-44ae-b03d-35a0eb6dfc16"
      },
      "execution_count": null,
      "outputs": [
        {
          "output_type": "stream",
          "name": "stdout",
          "text": [
            "enter the manufacturing date in dd/mm/yyyy:06/02/2025\n",
            "not\n"
          ]
        }
      ]
    },
    {
      "cell_type": "code",
      "source": [
        "num1=int(input(\"enter the number:\"))\n",
        "num2=int(input(\"enter the  second number:\"))\n",
        "num3=int(input(\"enter the third number:\"))\n",
        "if num1<=num2:\n",
        "  if num2<=num3:\n",
        "    print(f\"{num3} is larger\")\n",
        "  else:\n",
        "    print(f\"{num2} is bigger\")\n",
        "else:\n",
        "  if num1>=num3:\n",
        "    print(f\"{num1} is bigger\")\n",
        "  else:\n",
        "    print(f\"{num3} is bigger\")"
      ],
      "metadata": {
        "colab": {
          "base_uri": "https://localhost:8080/"
        },
        "id": "64Nq9abHxWXA",
        "outputId": "652e8ed8-4d0d-4da9-8fdc-db22264a681a"
      },
      "execution_count": null,
      "outputs": [
        {
          "output_type": "stream",
          "name": "stdout",
          "text": [
            "enter the number:8\n",
            "enter the  second number:5\n",
            "enter the third number:1\n",
            "8 is bigger\n"
          ]
        }
      ]
    },
    {
      "cell_type": "code",
      "source": [
        "a=2\n",
        "b=3.14827\n",
        "print(\"a contains {}\".format(a))\n",
        "print(\"a contain {} and b contains{}\".format(a,b))\n",
        "print(\"a contain {1} and b contains{0}\".format(a,b))\n",
        "print(f\"b contains {b:.2f}\")"
      ],
      "metadata": {
        "colab": {
          "base_uri": "https://localhost:8080/"
        },
        "id": "A7o-Drdfz4-A",
        "outputId": "7dd7dac8-5866-47fa-a109-9f6cccb73d52"
      },
      "execution_count": null,
      "outputs": [
        {
          "output_type": "stream",
          "name": "stdout",
          "text": [
            "a contains 2\n",
            "a contain 2 and b contains3.14827\n",
            "a contain 3.14827 and b contains2\n",
            "b contains 3.15\n"
          ]
        }
      ]
    },
    {
      "cell_type": "code",
      "source": [
        "name,age,location='guest',22,'cochin'#multivariable assignment\n",
        "print(name)\n",
        "print(age)\n",
        "print(location)"
      ],
      "metadata": {
        "colab": {
          "base_uri": "https://localhost:8080/"
        },
        "id": "pfPrceGr2WFm",
        "outputId": "80c3f1b7-1dc1-45d8-eb33-f6e246c3819b"
      },
      "execution_count": null,
      "outputs": [
        {
          "output_type": "stream",
          "name": "stdout",
          "text": [
            "guest\n",
            "22\n",
            "cochin\n"
          ]
        }
      ]
    },
    {
      "cell_type": "code",
      "source": [
        "a=10\n",
        "b=20\n",
        "print(a,b,sep=\"-\")\n",
        "print(\"hi\",end=\"-\")\n",
        "print(\"welcome\")"
      ],
      "metadata": {
        "colab": {
          "base_uri": "https://localhost:8080/"
        },
        "id": "x38YVOh24szI",
        "outputId": "80354710-ff9c-4611-ab4f-7302293c37e2"
      },
      "execution_count": null,
      "outputs": [
        {
          "output_type": "stream",
          "name": "stdout",
          "text": [
            "10-20\n",
            "hi-welcome\n"
          ]
        }
      ]
    },
    {
      "cell_type": "code",
      "source": [
        "a=5#type convrsion and casting\n",
        "b=str(a)\n",
        "print(b,type(b))\n",
        "c=float(a)\n",
        "print(c,type(c))\n",
        "d=tuple([1,2,3,])\n",
        "print(d,type(d))\n",
        "print(int(3.14))\n",
        "print(int(\"3\"),type(int(\"3\")))\n",
        "print(list(\"abc\"),type(list(\"abc\")))\n",
        "dict([(1,\"one\"),(2,\"two\")])#convert list of tuple to dictionary\n",
        "set([1,1,2])#convert list to set\n"
      ],
      "metadata": {
        "colab": {
          "base_uri": "https://localhost:8080/"
        },
        "id": "m9IIOYwq6TgD",
        "outputId": "3ed1a465-74ce-4992-8e52-835cd159f5a2"
      },
      "execution_count": null,
      "outputs": [
        {
          "output_type": "stream",
          "name": "stdout",
          "text": [
            "5 <class 'str'>\n",
            "5.0 <class 'float'>\n",
            "(1, 2, 3) <class 'tuple'>\n",
            "3\n",
            "3 <class 'int'>\n",
            "['a', 'b', 'c'] <class 'list'>\n"
          ]
        },
        {
          "output_type": "execute_result",
          "data": {
            "text/plain": [
              "{1: 'one', 2: 'two'}"
            ]
          },
          "metadata": {},
          "execution_count": 76
        }
      ]
    },
    {
      "cell_type": "code",
      "source": [
        "import keyword#to get a list of keywords\n",
        "print(keyword.kwlist)"
      ],
      "metadata": {
        "colab": {
          "base_uri": "https://localhost:8080/"
        },
        "id": "UreHd3W6-wRc",
        "outputId": "bd0589ff-fa52-4a33-9982-c1fceb044c1f"
      },
      "execution_count": null,
      "outputs": [
        {
          "output_type": "stream",
          "name": "stdout",
          "text": [
            "['False', 'None', 'True', 'and', 'as', 'assert', 'async', 'await', 'break', 'class', 'continue', 'def', 'del', 'elif', 'else', 'except', 'finally', 'for', 'from', 'global', 'if', 'import', 'in', 'is', 'lambda', 'nonlocal', 'not', 'or', 'pass', 'raise', 'return', 'try', 'while', 'with', 'yield']\n"
          ]
        }
      ]
    },
    {
      "cell_type": "code",
      "source": [
        "#string join\n",
        "domain=[\"data\",\"science\"]\n",
        "\"+\".join(domain)"
      ],
      "metadata": {
        "colab": {
          "base_uri": "https://localhost:8080/",
          "height": 36
        },
        "id": "JtslE6Ut_c6d",
        "outputId": "7aa61695-fc29-44d4-bb68-45e7187978b1"
      },
      "execution_count": null,
      "outputs": [
        {
          "output_type": "execute_result",
          "data": {
            "text/plain": [
              "'data+science'"
            ],
            "application/vnd.google.colaboratory.intrinsic+json": {
              "type": "string"
            }
          },
          "metadata": {},
          "execution_count": 79
        }
      ]
    },
    {
      "cell_type": "code",
      "source": [
        "h=[1,2,3]#list operations\n",
        "h.append(4)\n",
        "print(h)\n",
        "h.extend([5,6])\n",
        "print(h)\n",
        "h.remove(2)\n",
        "print(h)\n",
        "h.insert(0,'a')\n",
        "print(h)\n",
        "h.reverse()\n",
        "print(h)\n",
        "h.remove('a')\n",
        "print(h)\n",
        "h.sort()\n",
        "print(h)\n",
        "h.pop(0)\n",
        "print(h)\n",
        "h.clear()\n",
        "print(h)"
      ],
      "metadata": {
        "colab": {
          "base_uri": "https://localhost:8080/"
        },
        "id": "g88von_RAlbD",
        "outputId": "bcb14b60-d33b-4499-de50-4f459d5adc80"
      },
      "execution_count": null,
      "outputs": [
        {
          "output_type": "stream",
          "name": "stdout",
          "text": [
            "[1, 2, 3, 4]\n",
            "[1, 2, 3, 4, 5, 6]\n",
            "[1, 3, 4, 5, 6]\n",
            "['a', 1, 3, 4, 5, 6]\n",
            "[6, 5, 4, 3, 1, 'a']\n",
            "[6, 5, 4, 3, 1]\n",
            "[1, 3, 4, 5, 6]\n",
            "[3, 4, 5, 6]\n",
            "[]\n"
          ]
        }
      ]
    },
    {
      "cell_type": "code",
      "source": [
        "#a given day is holiday(sunday or saturday) or not"
      ],
      "metadata": {
        "id": "mZEUy6BXDHXV"
      },
      "execution_count": null,
      "outputs": []
    },
    {
      "cell_type": "code",
      "source": [
        "date=\"dd/mm/yyyy\"\n",
        "\n",
        "\n",
        "f=date.split(\"/\")\n",
        "domain1=[f[0],f[1],f[2]]\n",
        "do=\"-\".join(domain1)\n",
        "print(do)\n",
        "\n",
        "p=domain1.reverse()\n",
        "go=\"|\".join(p)\n"
      ],
      "metadata": {
        "colab": {
          "base_uri": "https://localhost:8080/",
          "height": 193
        },
        "id": "jJ6b7BkjDWRr",
        "outputId": "f71247a1-abc4-4fbe-ba93-cc31ab9413be"
      },
      "execution_count": null,
      "outputs": [
        {
          "output_type": "stream",
          "name": "stdout",
          "text": [
            "dd-mm-yyyy\n"
          ]
        },
        {
          "output_type": "error",
          "ename": "TypeError",
          "evalue": "can only join an iterable",
          "traceback": [
            "\u001b[0;31m---------------------------------------------------------------------------\u001b[0m",
            "\u001b[0;31mTypeError\u001b[0m                                 Traceback (most recent call last)",
            "\u001b[0;32m/tmp/ipython-input-3408414458.py\u001b[0m in \u001b[0;36m<cell line: 0>\u001b[0;34m()\u001b[0m\n\u001b[1;32m      8\u001b[0m \u001b[0;34m\u001b[0m\u001b[0m\n\u001b[1;32m      9\u001b[0m \u001b[0mp\u001b[0m\u001b[0;34m=\u001b[0m\u001b[0mdomain1\u001b[0m\u001b[0;34m.\u001b[0m\u001b[0mreverse\u001b[0m\u001b[0;34m(\u001b[0m\u001b[0;34m)\u001b[0m\u001b[0;34m\u001b[0m\u001b[0;34m\u001b[0m\u001b[0m\n\u001b[0;32m---> 10\u001b[0;31m \u001b[0mgo\u001b[0m\u001b[0;34m=\u001b[0m\u001b[0;34m\"|\"\u001b[0m\u001b[0;34m.\u001b[0m\u001b[0mjoin\u001b[0m\u001b[0;34m(\u001b[0m\u001b[0mp\u001b[0m\u001b[0;34m)\u001b[0m\u001b[0;34m\u001b[0m\u001b[0;34m\u001b[0m\u001b[0m\n\u001b[0m",
            "\u001b[0;31mTypeError\u001b[0m: can only join an iterable"
          ]
        }
      ]
    },
    {
      "cell_type": "code",
      "source": [
        "dictionary={'name':'juby','age':23,'place':'kottayam','university':'kerala university'}\n",
        "print(dictionary.keys())\n",
        "print(dictionary.items())\n",
        "for u,v in dictionary.items():\n",
        "  print(f\"my {u} is {v}\")"
      ],
      "metadata": {
        "colab": {
          "base_uri": "https://localhost:8080/"
        },
        "id": "eufPFT-43XzL",
        "outputId": "51887e1b-0d85-4556-edc3-b2ff74b2506d"
      },
      "execution_count": null,
      "outputs": [
        {
          "output_type": "stream",
          "name": "stdout",
          "text": [
            "dict_keys(['name', 'age', 'place', 'university'])\n",
            "dict_items([('name', 'juby'), ('age', 23), ('place', 'kottayam'), ('university', 'kerala university')])\n",
            "my name is juby\n",
            "my age is 23\n",
            "my place is kottayam\n",
            "my university is kerala university\n"
          ]
        }
      ]
    },
    {
      "cell_type": "code",
      "source": [
        "gro={'Tomato':10,'carrot':30,'wheat':40,'rice':50}\n",
        "list1=[]\n",
        "my_budget=100\n",
        "start=0\n",
        "for a,b in gro.items():\n",
        "  if b<my_budget and b+start<=my_budget:\n",
        "    list1.append(a)\n",
        "    start=start+b\n",
        "print(list1)\n"
      ],
      "metadata": {
        "colab": {
          "base_uri": "https://localhost:8080/"
        },
        "id": "Dpz4s-SPzibR",
        "outputId": "73a13929-0ad9-4fcd-8fbc-fb6852477d83"
      },
      "execution_count": null,
      "outputs": [
        {
          "output_type": "stream",
          "name": "stdout",
          "text": [
            "['Tomato', 'carrot', 'wheat']\n"
          ]
        }
      ]
    },
    {
      "cell_type": "code",
      "source": [
        "for i in range(1,101):\n",
        "  if i%3==0 and i%5==0:\n",
        "    print(i)\n"
      ],
      "metadata": {
        "colab": {
          "base_uri": "https://localhost:8080/"
        },
        "id": "7zBQiUGp5Sh-",
        "outputId": "9dba2c72-b361-4497-dbfa-37a5d3ec3c98"
      },
      "execution_count": null,
      "outputs": [
        {
          "output_type": "stream",
          "name": "stdout",
          "text": [
            "15\n",
            "30\n",
            "45\n",
            "60\n",
            "75\n",
            "90\n"
          ]
        }
      ]
    },
    {
      "cell_type": "code",
      "source": [
        "A=1#when iterations need to end\n",
        "while A<10:\n",
        "  print(A)\n",
        "  A=A+2\n",
        "else:\n",
        "  print(\"you have crossed the limit\")"
      ],
      "metadata": {
        "colab": {
          "base_uri": "https://localhost:8080/"
        },
        "id": "JiNZlo0cAI2R",
        "outputId": "49ce63c0-817d-4b4f-bcf5-284c9ba8c6d0"
      },
      "execution_count": null,
      "outputs": [
        {
          "output_type": "stream",
          "name": "stdout",
          "text": [
            "1\n",
            "3\n",
            "5\n",
            "7\n",
            "9\n",
            "you have crossed the limit\n"
          ]
        }
      ]
    },
    {
      "cell_type": "code",
      "source": [
        "print(\"nuggets(40rs),juice(50Rs),biriyani(80),shake(60)\")\n",
        "items1={\"nuggets\":40,\"juice\":50,\"biriyani\":80,\"shake\":60}\n",
        "mybud=150\n",
        "while mybud>0:\n",
        "\n",
        "  #for h,n in items1.items():\n",
        "    item=input(\"your choice\")\n",
        "    w=items1[item]\n",
        "    mybud-=int(w)\n",
        "else:\n",
        "  print(\"out of balance\")\n",
        "\n"
      ],
      "metadata": {
        "colab": {
          "base_uri": "https://localhost:8080/"
        },
        "id": "Kqmi-4VeBmI0",
        "outputId": "fe0bbca0-3a01-4043-a7d9-c5c613d8d16b"
      },
      "execution_count": null,
      "outputs": [
        {
          "output_type": "stream",
          "name": "stdout",
          "text": [
            "nuggets(40rs),juice(50Rs),biriyani(80),shake(60)\n",
            "your choicenuggets\n",
            "your choicebiriyani\n",
            "your choiceshake\n",
            "out of balance\n"
          ]
        }
      ]
    },
    {
      "cell_type": "code",
      "source": [
        "d=5\n",
        "a=0\n",
        "while a!=d:\n",
        "  print(\"guess again\")\n",
        "  number=int(input(\"enter the number:\"))\n",
        "  a=number\n",
        "else:\n",
        "  print(\"guessed correctly\")\n"
      ],
      "metadata": {
        "colab": {
          "base_uri": "https://localhost:8080/"
        },
        "id": "JyPCG0EaD7rs",
        "outputId": "d4b8b5da-c7e4-4359-ce9f-1a994dea069e"
      },
      "execution_count": null,
      "outputs": [
        {
          "output_type": "stream",
          "name": "stdout",
          "text": [
            "guess again\n",
            "enter the number:2\n",
            "guess again\n",
            "enter the number:45\n",
            "guess again\n",
            "enter the number:5\n",
            "guessed correctly\n"
          ]
        }
      ]
    },
    {
      "cell_type": "code",
      "source": [
        "import random\n",
        "secret=random.randint(1,10)\n",
        "l=int(input(\"enter a number\"))\n",
        "while a!=secret:\n",
        "  a=int(input(\"enter your guess\"))\n",
        "else:\n",
        "  print(\"right guess\")"
      ],
      "metadata": {
        "colab": {
          "base_uri": "https://localhost:8080/"
        },
        "id": "oeJ5llFfJjWm",
        "outputId": "1421c522-363a-412b-de35-6ec02522a463"
      },
      "execution_count": null,
      "outputs": [
        {
          "output_type": "stream",
          "name": "stdout",
          "text": [
            "enter a number4\n",
            "enter your guess2\n",
            "enter your guess6\n",
            "enter your guess8\n",
            "enter your guess9\n",
            "enter your guess1\n",
            "enter your guess3\n",
            "right guess\n"
          ]
        }
      ]
    },
    {
      "cell_type": "code",
      "source": [
        "password=\"juby\"\n",
        "t=input(\"enter a number password\")\n",
        "i=1\n",
        "while t!=password:\n",
        "  print(f\"you have {3-i} attempts left\")\n",
        "  t=input(\"enter your password\")\n",
        "  i=i+1\n",
        "\n",
        "  if i==3:\n",
        "    print(\"finished\")\n",
        "    break\n",
        "else:\n",
        "  print(\"right guess\")"
      ],
      "metadata": {
        "colab": {
          "base_uri": "https://localhost:8080/"
        },
        "id": "YxM28kHSLICE",
        "outputId": "d8e0083b-c4a2-4f31-837b-f040193b390c"
      },
      "execution_count": null,
      "outputs": [
        {
          "output_type": "stream",
          "name": "stdout",
          "text": [
            "enter a number password5ty6\n",
            "you have 2 attempts left\n",
            "enter your passwordjuki\n",
            "you have 1 attempts left\n",
            "enter your passwordjuby\n",
            "finished\n"
          ]
        }
      ]
    },
    {
      "cell_type": "markdown",
      "source": [
        "dictionary with keys movie name and values as ratings, list out"
      ],
      "metadata": {
        "id": "Y43vN3XXVYl8"
      }
    },
    {
      "cell_type": "code",
      "source": [],
      "metadata": {
        "id": "lMV-PGlwVV0J"
      },
      "execution_count": null,
      "outputs": []
    },
    {
      "cell_type": "markdown",
      "source": [
        "Fuctions"
      ],
      "metadata": {
        "id": "DAGtq7BxviTB"
      }
    },
    {
      "cell_type": "code",
      "source": [
        "def greet():#to avoid error if body of function is not present\n",
        "  pass"
      ],
      "metadata": {
        "id": "eYwtJYWRvhX-"
      },
      "execution_count": null,
      "outputs": []
    },
    {
      "cell_type": "code",
      "source": [
        "def greet(name,time):#functions with argument\n",
        "  print(f\"hello {name} welcome\")\n",
        "  print(f\"your session will start at {time}\")\n",
        "greet('JUBY','3 pm')\n",
        "greet(\"jwe\",'1:15pm')\n",
        "greet(\"ginny\",'5pm')"
      ],
      "metadata": {
        "colab": {
          "base_uri": "https://localhost:8080/"
        },
        "id": "zVfaYYHNvuAD",
        "outputId": "8f5877d1-1018-448e-8ecc-d1bf55a35878"
      },
      "execution_count": null,
      "outputs": [
        {
          "output_type": "stream",
          "name": "stdout",
          "text": [
            "hello JUBY welcome\n",
            "your session will start at 3 pm\n",
            "hello jwe welcome\n",
            "your session will start at 1:15pm\n",
            "hello ginny welcome\n",
            "your session will start at 5pm\n"
          ]
        }
      ]
    },
    {
      "cell_type": "code",
      "source": [
        "def greet(name,time='11am'):#functions with argument default argument\n",
        "  print(f\"hello {name} welcome\")\n",
        "  print(f\"your session will start at {time}\")\n",
        "greet('JUBY','3 pm')\n",
        "greet(\"jwe\",'1:15pm')\n",
        "greet(\"ginny\",'5pm')\n",
        "greet('lini')"
      ],
      "metadata": {
        "colab": {
          "base_uri": "https://localhost:8080/"
        },
        "id": "RX6qnJ_awYaK",
        "outputId": "9dfc068b-e4db-43fd-8357-8ccf7e687deb"
      },
      "execution_count": null,
      "outputs": [
        {
          "output_type": "stream",
          "name": "stdout",
          "text": [
            "hello JUBY welcome\n",
            "your session will start at 3 pm\n",
            "hello jwe welcome\n",
            "your session will start at 1:15pm\n",
            "hello ginny welcome\n",
            "your session will start at 5pm\n",
            "hello lini welcome\n",
            "your session will start at 11am\n"
          ]
        }
      ]
    },
    {
      "cell_type": "code",
      "source": [],
      "metadata": {
        "id": "5jAsI9Od1RUb"
      },
      "execution_count": null,
      "outputs": []
    },
    {
      "cell_type": "code",
      "source": [
        "num1=int(input(\"enter the number:\"))\n",
        "num2=int(input(\"enter the second number:\"))\n",
        "def product(num1,num2):\n",
        "  print(f\"The product, {num1}*{num2}={num1*num2}\")\n",
        "product(num1,num2)"
      ],
      "metadata": {
        "colab": {
          "base_uri": "https://localhost:8080/"
        },
        "id": "H52v0QfZx7mN",
        "outputId": "94ae31b0-dffb-4bf1-ba1f-110e94fa9082"
      },
      "execution_count": null,
      "outputs": [
        {
          "output_type": "stream",
          "name": "stdout",
          "text": [
            "enter the number:8\n",
            "enter the second number:4\n",
            "The product, 8*4=32\n"
          ]
        }
      ]
    },
    {
      "cell_type": "code",
      "source": [
        "def bill(total):\n",
        "  total_amount=total+0.1*total\n",
        "  print(f\"the amout to be paid is {total_amount}\")\n",
        "total=int(input(\"enter the amout\"))\n",
        "bill(total)"
      ],
      "metadata": {
        "colab": {
          "base_uri": "https://localhost:8080/"
        },
        "id": "PncT0y4115pC",
        "outputId": "cae6fb67-e759-4027-b4e5-e3dd47d9acaa"
      },
      "execution_count": null,
      "outputs": [
        {
          "output_type": "stream",
          "name": "stdout",
          "text": [
            "enter the amout100\n",
            "the amout to be paid is 110.0\n"
          ]
        }
      ]
    },
    {
      "cell_type": "code",
      "source": [
        "def bill2(total):\n",
        "  if total<=100:\n",
        "    total_amount=total+0.1*total\n",
        "    print(f\"the amout to be paid is {total_amount}\")\n",
        "  elif total>100 and total<=1500:\n",
        "    total_amount=total+0.12*total\n",
        "    print(f\"the amout to be paid is {total_amount}\")\n",
        "  elif total>1500 and total<=3000:\n",
        "    total_amount=total+0.15*total\n",
        "    print(f\"the amout to be paid is {total_amount}\")\n",
        "  else:\n",
        "    total_amount=total+0.2*total\n",
        "    print(f\"the amout to be paid is {total_amount}\")\n",
        "total=int(input(\"enter the amout\"))\n",
        "bill2(total)"
      ],
      "metadata": {
        "colab": {
          "base_uri": "https://localhost:8080/"
        },
        "id": "hMGEk9Q23q73",
        "outputId": "80afe15e-7166-49be-f333-3ccc1f55b83c"
      },
      "execution_count": null,
      "outputs": [
        {
          "output_type": "stream",
          "name": "stdout",
          "text": [
            "enter the amout1000\n",
            "the amout to be paid is 1120.0\n"
          ]
        }
      ]
    },
    {
      "cell_type": "code",
      "source": [
        "num_list=[12,8,5,7,8,44,10,21]\n",
        "def average_even(numberlist):\n",
        "  even_list=[]\n",
        "  odd_list=[]\n",
        "  for num in numberlist:\n",
        "    if num%2==0:\n",
        "      even_list.append(num)\n",
        "    else:\n",
        "      odd_list.append(num)\n",
        "  print(\"even list is\",even_list)\n",
        "  print(\"odd list\",odd_list)\n",
        "  average=sum(even_list)/len(even_list)\n",
        "  average1=sum(odd_list)/len(odd_list)\n",
        "  print(\"average of even list\",average)\n",
        "  print(\"average of odd list\",average1)\n",
        "average_even(num_list)"
      ],
      "metadata": {
        "colab": {
          "base_uri": "https://localhost:8080/"
        },
        "id": "Yvjk9yol7Nk6",
        "outputId": "113b1141-2a6a-436e-a745-129fae216483"
      },
      "execution_count": null,
      "outputs": [
        {
          "output_type": "stream",
          "name": "stdout",
          "text": [
            "even list is [12, 8, 8, 44, 10]\n",
            "odd list [5, 7, 21]\n",
            "average of even list 16.4\n",
            "average of odd list 11.0\n"
          ]
        }
      ]
    },
    {
      "cell_type": "code",
      "source": [
        "def sum_numbers(*argsm):#single star means in tuple format, ** means dictionary(keyword arguments) to use arbitary arguments if the number of arguments is is unkown\n",
        "  print(type(argsm))\n",
        "  total=0\n",
        "  for i in argsm:\n",
        "    total+=i\n",
        "  print(total)\n",
        "sum_numbers(6,3,4,1)\n"
      ],
      "metadata": {
        "colab": {
          "base_uri": "https://localhost:8080/"
        },
        "id": "1KkqNJmN_CSj",
        "outputId": "d7a36eab-63f3-4de9-f302-ded26873a98c"
      },
      "execution_count": null,
      "outputs": [
        {
          "output_type": "stream",
          "name": "stdout",
          "text": [
            "<class 'tuple'>\n",
            "14\n"
          ]
        }
      ]
    },
    {
      "cell_type": "code",
      "source": [
        "def print_info(**argsd):# to change the keywords use double stars use for different keys\n",
        "  for item,val in argsd.items():\n",
        "    print(f\"{item} is {val}\")\n",
        "print_info(name='alana',place='tvm',score=6)\n",
        "print_info(Name='ron',Area='tvm',Batch=6)"
      ],
      "metadata": {
        "colab": {
          "base_uri": "https://localhost:8080/"
        },
        "id": "SjJOrKa2A8qr",
        "outputId": "9d0966d4-6994-42bf-a9c1-308775720219"
      },
      "execution_count": null,
      "outputs": [
        {
          "output_type": "stream",
          "name": "stdout",
          "text": [
            "name is alana\n",
            "place is tvm\n",
            "score is 6\n",
            "Name is ron\n",
            "Area is tvm\n",
            "Batch is 6\n"
          ]
        }
      ]
    },
    {
      "cell_type": "code",
      "source": [
        "def square(x):\n",
        "  y=x*x\n",
        "  print(y)\n",
        "square(10)\n",
        "squarenum=lambda t:t*t#single opertion can be done using the lambda function\n",
        "print(squarenum(6))\n",
        "add=lambda c,n:c+n\n",
        "add(3,6)"
      ],
      "metadata": {
        "colab": {
          "base_uri": "https://localhost:8080/"
        },
        "id": "7QJvMSJoLPYe",
        "outputId": "d802d4fe-dbaf-46fe-c7b8-005455a78f7b"
      },
      "execution_count": null,
      "outputs": [
        {
          "output_type": "stream",
          "name": "stdout",
          "text": [
            "100\n",
            "36\n"
          ]
        },
        {
          "output_type": "execute_result",
          "data": {
            "text/plain": [
              "9"
            ]
          },
          "metadata": {},
          "execution_count": 36
        }
      ]
    },
    {
      "cell_type": "code",
      "source": [
        "def totalmarks(marks):#to use the result or fuctions done inside the function to be used later\n",
        "  print(sum(marks))\n",
        "  return (sum(marks))\n",
        "finalscore=totalmarks([10,40,32,50,25])\n",
        "if finalscore>=125:\n",
        "  print(\"passed\")\n",
        "else:\n",
        "  print(\"not passed\")"
      ],
      "metadata": {
        "colab": {
          "base_uri": "https://localhost:8080/"
        },
        "id": "Ft8V_ou2Mymk",
        "outputId": "8b25b76b-1ebe-4bac-de7a-cb901a51758b"
      },
      "execution_count": null,
      "outputs": [
        {
          "output_type": "stream",
          "name": "stdout",
          "text": [
            "157\n",
            "passed\n"
          ]
        }
      ]
    },
    {
      "cell_type": "markdown",
      "source": [
        "OOPS(Object oriented programming)easily access the code written somewhere, code security is higher, cannot be accessed randomly like functions\n",
        "\n",
        "\n",
        "\n",
        "\n",
        "\n",
        "*  class- structure or blueprint,attributes-variable names(features- colour, brand), methods-functions in oops(action in class)\n",
        "*   object/instance-to access the code, we need an object/key/instances\n",
        "\n",
        "\n",
        "*  inheritance -\n",
        "*   polymorphism\n",
        "*   encapsulation\n",
        "*   abstractiion\n",
        "\n",
        "\n",
        "\n",
        "\n"
      ],
      "metadata": {
        "id": "rfIETeEFPgPC"
      }
    },
    {
      "cell_type": "code",
      "source": [
        "class Animal:\n",
        "  animal_type=\"dog\"#attribute\n",
        "  legs=4#attribute\n",
        "  mammal=\"yes\"#attribute\n",
        "  def sound(self):#to distinguish users to use the class separately\n",
        "    print(\"animal barks\")\n",
        "obj1=Animal()#to access object\n",
        "obj1.sound()#to access object"
      ],
      "metadata": {
        "id": "UPGpSVptPmWz"
      },
      "execution_count": null,
      "outputs": []
    },
    {
      "cell_type": "markdown",
      "source": [
        "**study object oriented programming from linkedin**"
      ],
      "metadata": {
        "id": "wXz7eZ8_YHmB"
      }
    },
    {
      "cell_type": "code",
      "source": [
        "class person:\n",
        "  place=\"tvm\"\n",
        "  def __init__(self,name,age):#constructor(self starting or initializing (self-to identify the object) )\n",
        "    self.name=name #store the attribute\n",
        "    self.age=age\n",
        "  def greet(self):\n",
        "    return f\"Hi myself {self.name} and my age is {self.age} and i'm from{self.place}\"\n",
        "obj1=person(\"laua\",25)#giving something to store\n",
        "print(obj1.greet())\n",
        "obj2=person('jeena',23)\n",
        "print(obj2.greet())\n"
      ],
      "metadata": {
        "colab": {
          "base_uri": "https://localhost:8080/"
        },
        "id": "3e9PVR1RT-a9",
        "outputId": "cefd325d-9896-459b-fcc2-8756db1d4b4f"
      },
      "execution_count": null,
      "outputs": [
        {
          "output_type": "stream",
          "name": "stdout",
          "text": [
            "Hi myself laua and my age is 25 and i'm fromtvm\n",
            "Hi myself jeena and my age is 23 and i'm fromtvm\n"
          ]
        }
      ]
    },
    {
      "cell_type": "code",
      "source": [
        "class employee:\n",
        "  def __init__(self,name,emp_id,salary):\n",
        "    self.name=name\n",
        "    self.emp_id=emp_id\n",
        "    self.salary=salary\n",
        "  def display_info(self):\n",
        "    print(f\"Name:{self.name}\")\n",
        "    print(f\"Employee_id:{self.emp_id}\")\n",
        "    print(f\"salary:{self.salary}\")\n",
        "class Manager(employee):\n",
        "  def __init__(self,name,emp_id,salary,dept,teamsize):\n",
        "    super().__init__(name,emp_id,salary)\n",
        "    self.dept=dept\n",
        "    self.teamsize=teamsize\n",
        "  def display_manager(self):\n",
        "    self.display_info()\n",
        "    print(f\"deprtment:{self.dept}\")\n",
        "    print(f\"Team size:{self.teamsize}\")\n",
        "class teamlead(Manager):\n",
        "  def __init__(self,name,emp_id,salary,dept,teamsize,shift):\n",
        "    super().__init__(name,emp_id,salary,dept,teamsize)\n",
        "    self.shift=shift\n",
        "  def display_teamlead(self):\n",
        "    self.display_manager()\n",
        "    print(f\"shift:{self.shift}\")\n",
        "\n",
        "emp1=employee(\"john\",\"1221\",50000)\n",
        "emp1.display_info()\n",
        "manager1=Manager(\"jane\",\"13333\",60000,\"cs\",10)\n",
        "manager1.display_manager()\n",
        "teamlead=teamlead(\"hun\",\"3456\",80000,\"it\",20,\"nightshift\")\n",
        "teamlead.display_teamlead()"
      ],
      "metadata": {
        "colab": {
          "base_uri": "https://localhost:8080/"
        },
        "id": "bwnLYWv2ZYhu",
        "outputId": "6873a7b9-4ff0-478b-b226-cd81eb9e0a64"
      },
      "execution_count": null,
      "outputs": [
        {
          "output_type": "stream",
          "name": "stdout",
          "text": [
            "Name:john\n",
            "Employee_id:1221\n",
            "salary:50000\n",
            "Name:jane\n",
            "Employee_id:13333\n",
            "salary:60000\n",
            "deprtment:cs\n",
            "Team size:10\n",
            "Name:hun\n",
            "Employee_id:3456\n",
            "salary:80000\n",
            "deprtment:it\n",
            "Team size:20\n",
            "shift:nightshift\n"
          ]
        }
      ]
    },
    {
      "cell_type": "code",
      "source": [],
      "metadata": {
        "colab": {
          "base_uri": "https://localhost:8080/"
        },
        "id": "KOa6leZM3M7n",
        "outputId": "71f5ef02-8cca-4015-9604-5223ee1b3788"
      },
      "execution_count": null,
      "outputs": [
        {
          "output_type": "stream",
          "name": "stdout",
          "text": [
            "Enter the radius:4\n",
            "Area of circle= 50.24\n"
          ]
        }
      ]
    },
    {
      "cell_type": "code",
      "source": [
        "name=input(\"Enter the name:\")#student details\n",
        "rollno=input(\"Enter the roll no:\")\n",
        "mark=input(\"Enter the mark:\")\n",
        "print(f\"Name:{name}\\nRoll No:{rollno}\\nmark:{mark}\")"
      ],
      "metadata": {
        "colab": {
          "base_uri": "https://localhost:8080/"
        },
        "id": "GUV_g3gj4GJW",
        "outputId": "ec117f64-c4e0-473b-978f-1c8bfefca081"
      },
      "execution_count": null,
      "outputs": [
        {
          "output_type": "stream",
          "name": "stdout",
          "text": [
            "Enter the name:gin\n",
            "Enter the roll no:3\n",
            "Enter the mark:45\n",
            "Name:gin\n",
            "Roll No:3\n",
            "mark:45\n"
          ]
        }
      ]
    },
    {
      "cell_type": "code",
      "source": [],
      "metadata": {
        "id": "j3SeMi1I7ZTT"
      },
      "execution_count": null,
      "outputs": []
    },
    {
      "cell_type": "code",
      "source": [
        "list1=[]\n",
        "for i in range(5,26,2):\n",
        "  list1.append(i)\n",
        "print(list1)\n",
        "for j in (0,10,1):\n",
        "    current_number=list1[j+1]\n",
        "    print(\"current number\",current_number)\n",
        "    previous_number=list1[j]\n",
        "    print(\"previous number\",previous_number)\n",
        "    sum=current_number+previous_number\n",
        "    print(\"sum is\",sum)\n",
        "    #j=j+1\n",
        "    if j>=10:\n",
        "      break\n"
      ],
      "metadata": {
        "colab": {
          "base_uri": "https://localhost:8080/",
          "height": 280
        },
        "id": "wwou0ktB70Wh",
        "outputId": "5a3b8dc2-3709-4429-bc00-4c1861be40ba"
      },
      "execution_count": null,
      "outputs": [
        {
          "output_type": "stream",
          "name": "stdout",
          "text": [
            "[5, 7, 9, 11, 13, 15, 17, 19, 21, 23, 25]\n",
            "current number 7\n",
            "previous number 5\n",
            "sum is 12\n"
          ]
        },
        {
          "output_type": "error",
          "ename": "IndexError",
          "evalue": "list index out of range",
          "traceback": [
            "\u001b[0;31m---------------------------------------------------------------------------\u001b[0m",
            "\u001b[0;31mIndexError\u001b[0m                                Traceback (most recent call last)",
            "\u001b[0;32m/tmp/ipython-input-2536231990.py\u001b[0m in \u001b[0;36m<cell line: 0>\u001b[0;34m()\u001b[0m\n\u001b[1;32m      4\u001b[0m \u001b[0mprint\u001b[0m\u001b[0;34m(\u001b[0m\u001b[0mlist1\u001b[0m\u001b[0;34m)\u001b[0m\u001b[0;34m\u001b[0m\u001b[0;34m\u001b[0m\u001b[0m\n\u001b[1;32m      5\u001b[0m \u001b[0;32mfor\u001b[0m \u001b[0mj\u001b[0m \u001b[0;32min\u001b[0m \u001b[0;34m(\u001b[0m\u001b[0;36m0\u001b[0m\u001b[0;34m,\u001b[0m\u001b[0;36m10\u001b[0m\u001b[0;34m,\u001b[0m\u001b[0;36m1\u001b[0m\u001b[0;34m)\u001b[0m\u001b[0;34m:\u001b[0m\u001b[0;34m\u001b[0m\u001b[0;34m\u001b[0m\u001b[0m\n\u001b[0;32m----> 6\u001b[0;31m     \u001b[0mcurrent_number\u001b[0m\u001b[0;34m=\u001b[0m\u001b[0mlist1\u001b[0m\u001b[0;34m[\u001b[0m\u001b[0mj\u001b[0m\u001b[0;34m+\u001b[0m\u001b[0;36m1\u001b[0m\u001b[0;34m]\u001b[0m\u001b[0;34m\u001b[0m\u001b[0;34m\u001b[0m\u001b[0m\n\u001b[0m\u001b[1;32m      7\u001b[0m     \u001b[0mprint\u001b[0m\u001b[0;34m(\u001b[0m\u001b[0;34m\"current number\"\u001b[0m\u001b[0;34m,\u001b[0m\u001b[0mcurrent_number\u001b[0m\u001b[0;34m)\u001b[0m\u001b[0;34m\u001b[0m\u001b[0;34m\u001b[0m\u001b[0m\n\u001b[1;32m      8\u001b[0m     \u001b[0mprevious_number\u001b[0m\u001b[0;34m=\u001b[0m\u001b[0mlist1\u001b[0m\u001b[0;34m[\u001b[0m\u001b[0mj\u001b[0m\u001b[0;34m]\u001b[0m\u001b[0;34m\u001b[0m\u001b[0;34m\u001b[0m\u001b[0m\n",
            "\u001b[0;31mIndexError\u001b[0m: list index out of range"
          ]
        }
      ]
    },
    {
      "cell_type": "code",
      "source": [
        "list2=[10,20,33,46,55]#divisible by 5\n",
        "for i in list2:\n",
        "  if i%5==0:\n",
        "    print(i,\"\\t\")\n"
      ],
      "metadata": {
        "colab": {
          "base_uri": "https://localhost:8080/"
        },
        "id": "FrcjsLWzBqZK",
        "outputId": "da23b9ea-7bad-43fc-821f-6fc03738dccb"
      },
      "execution_count": null,
      "outputs": [
        {
          "output_type": "stream",
          "name": "stdout",
          "text": [
            "10 \t\n",
            "20 \t\n",
            "55 \t\n"
          ]
        }
      ]
    },
    {
      "cell_type": "code",
      "source": [
        "num1=int(input(\"Enter a number:\"))\n",
        "if num1!=0:\n",
        "  count=0\n",
        "  for i in range(2,num1-1):\n",
        "    if num1%i==0:\n",
        "      count+=1\n",
        "if count==0:\n",
        "  print(\"prime\")\n",
        "else:\n",
        "  print(\"not prime\")"
      ],
      "metadata": {
        "colab": {
          "base_uri": "https://localhost:8080/"
        },
        "id": "1asAygMPDNIW",
        "outputId": "e21c0b57-aa75-4754-ed25-f0f0220013b4"
      },
      "execution_count": null,
      "outputs": [
        {
          "output_type": "stream",
          "name": "stdout",
          "text": [
            "Enter a number:23\n",
            "prime\n"
          ]
        }
      ]
    },
    {
      "cell_type": "code",
      "source": [
        "list3=[30,67,29,10]#reverse list using for loop\n",
        "for i in list3:\n",
        "  if list[i]==len(list3):"
      ],
      "metadata": {
        "id": "7MalDs1EEV5z"
      },
      "execution_count": null,
      "outputs": []
    },
    {
      "cell_type": "code",
      "source": [
        "for i in range(1,5,1):\n",
        "  sign='*'\n",
        "  print(sign*i)\n"
      ],
      "metadata": {
        "colab": {
          "base_uri": "https://localhost:8080/"
        },
        "id": "Yzg0k2DoFTHr",
        "outputId": "7e3f32f7-03ea-4aa4-9654-5dfa21e16d91"
      },
      "execution_count": null,
      "outputs": [
        {
          "output_type": "stream",
          "name": "stdout",
          "text": [
            "*\n",
            "**\n",
            "***\n",
            "****\n"
          ]
        }
      ]
    },
    {
      "cell_type": "code",
      "source": [
        "num1=int(input(\"enter the number:\"))\n",
        "num2=int(input(\"enter the  second number:\"))\n",
        "num3=int(input(\"enter the third number:\"))\n",
        "if num1<=num2:\n",
        "  if num2<=num3:\n",
        "    print(f\"{num3} is larger\")\n",
        "  else:\n",
        "    print(f\"{num2} is bigger\")\n",
        "else:\n",
        "  if num1>=num3:\n",
        "    print(f\"{num1} is bigger\")\n",
        "  else:\n",
        "    print(f\"{num3} is bigger\")"
      ],
      "metadata": {
        "colab": {
          "base_uri": "https://localhost:8080/"
        },
        "id": "C8fhMBtzHRnh",
        "outputId": "940dcb60-ea2e-4643-e668-67fbdb7388d7"
      },
      "execution_count": null,
      "outputs": [
        {
          "output_type": "stream",
          "name": "stdout",
          "text": [
            "enter the number:5\n",
            "enter the  second number:3\n",
            "enter the third number:8\n",
            "8 is bigger\n"
          ]
        }
      ]
    },
    {
      "cell_type": "markdown",
      "source": [
        "coding - best practice\n",
        "\n",
        "\n",
        "*   redability-PEP8 style\n",
        "*   functions and DRY(don't repeat yourself)\n",
        "\n",
        "\n",
        "*   error handling and exception and validation\n",
        "*   writing pythonic code\n",
        "\n",
        "*  docummentation and commenting\n",
        "\n",
        "\n",
        "\n",
        "\n",
        "\n"
      ],
      "metadata": {
        "id": "IixR1ncHMTOM"
      }
    },
    {
      "cell_type": "markdown",
      "source": [
        "**Imports guidelines:**\n",
        "Module can be considered as a .py file. It include what we are doing in the file enclosed in triple quotes. Modele level dunkers(__version__ = '1.0',\n",
        "__author__ = 'Jane Doe') - two leading and two trailing underscores - should be placed after the module docstring but before any import statements. First satandard library later the related third party and Local Application/Library-Specific Imports(order). A blank line is used to separate them."
      ],
      "metadata": {
        "id": "tDporajdYqDt"
      }
    },
    {
      "cell_type": "code",
      "source": [
        "# Standard library\n",
        "import os\n",
        "import sys\n",
        "import json\n",
        "\n",
        "# Third-party\n",
        "import requests\n",
        "import numpy as np\n",
        "import pandas as pd\n",
        "\n",
        "# Local application/library\n",
        "from myproject import utils\n",
        "from myproject.database import db_connector\n",
        "import config"
      ],
      "metadata": {
        "id": "KR-ebhwrNqmb"
      },
      "execution_count": null,
      "outputs": []
    },
    {
      "cell_type": "code",
      "source": [
        "import os\n",
        "import numpy as np\n",
        "import sys\n",
        "version = '1.0'"
      ],
      "metadata": {
        "id": "tzbjC9VjeTHM"
      },
      "execution_count": null,
      "outputs": []
    },
    {
      "cell_type": "markdown",
      "source": [
        "**String quoting conventions**: double and single quotes can be used. To input double or single quotes in a string use backslash."
      ],
      "metadata": {
        "id": "hKMuTOAMgZD6"
      }
    },
    {
      "cell_type": "code",
      "source": [
        "print(\"\\'wow\")"
      ],
      "metadata": {
        "colab": {
          "base_uri": "https://localhost:8080/"
        },
        "id": "Q1AS3H8jgYop",
        "outputId": "acdfb039-e908-4133-a14d-7ef63360d2ef"
      },
      "execution_count": null,
      "outputs": [
        {
          "output_type": "stream",
          "name": "stdout",
          "text": [
            "'wow\n"
          ]
        }
      ]
    },
    {
      "cell_type": "markdown",
      "source": [
        "**white spaces in expresions and statements in pep style:**\n",
        "\n",
        "\n"
      ],
      "metadata": {
        "id": "985A3InshF_T"
      }
    },
    {
      "cell_type": "code",
      "source": [
        "x = 1#Use a single space around binary operators like =, +, -, *, ==, etc\n",
        "y = 2\n",
        "z = x + y\n"
      ],
      "metadata": {
        "id": "KTsPUUUrgD4N"
      },
      "execution_count": null,
      "outputs": []
    },
    {
      "cell_type": "code",
      "source": [
        "my_list = [1, 2, 3]#No Space Just Inside Parentheses, Brackets, or Braces\n",
        "x, y =4, 3#Don't Add Spaces Before a Comma, Semicolon, or Colon\n",
        "if x == 4:\n",
        "  print(x)\n",
        "names = ['Alice', 'Bob', 'Charlie']#Use One Space After a Comma, Semicolon, or Colon\n",
        "def func(a=5, b=10):#Avoid Spaces Around the '=' in Keyword Arguments and Default Parameter Values\n",
        "    return a + b\n",
        "#Avoid Spaces Around the . in Attribute Access"
      ],
      "metadata": {
        "id": "lLi_fNe-jjx0"
      },
      "execution_count": null,
      "outputs": []
    }
  ]
}