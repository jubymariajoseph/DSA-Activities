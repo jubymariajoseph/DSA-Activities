{
  "nbformat": 4,
  "nbformat_minor": 0,
  "metadata": {
    "colab": {
      "provenance": [],
      "authorship_tag": "ABX9TyP+XOEQCZqUB0Dr86Be7/hb",
      "include_colab_link": true
    },
    "kernelspec": {
      "name": "python3",
      "display_name": "Python 3"
    },
    "language_info": {
      "name": "python"
    }
  },
  "cells": [
    {
      "cell_type": "markdown",
      "metadata": {
        "id": "view-in-github",
        "colab_type": "text"
      },
      "source": [
        "<a href=\"https://colab.research.google.com/github/jubymariajoseph/DSA-Activities/blob/main/SQL_casestudy.ipynb\" target=\"_parent\"><img src=\"https://colab.research.google.com/assets/colab-badge.svg\" alt=\"Open In Colab\"/></a>"
      ]
    },
    {
      "cell_type": "code",
      "execution_count": 1,
      "metadata": {
        "id": "1NCQk3Tv79Hd"
      },
      "outputs": [],
      "source": [
        "import sqlite3\n",
        "import pandas as pd"
      ]
    },
    {
      "cell_type": "code",
      "source": [
        "def load_imdb_database(db_path):\n",
        "  try:\n",
        "    conn = sqlite3.connect(db_path)\n",
        "    print(\"IMDB database loaded successfully.\")\n",
        "    return conn\n",
        "  except sqlite3.Error as e:\n",
        "    print(f\"Error loading IMDB database: {e}\")\n",
        "    return None"
      ],
      "metadata": {
        "id": "ZPnKyFW18lPz"
      },
      "execution_count": 2,
      "outputs": []
    },
    {
      "cell_type": "code",
      "source": [
        "db_path = \"/content/imdb.db\"\n",
        "conn = load_imdb_database(db_path)\n",
        "\n",
        "if conn:\n",
        "  print(\"Connection successful\")\n",
        "  cursor = conn.cursor()"
      ],
      "metadata": {
        "id": "bqROaRj38lgc",
        "colab": {
          "base_uri": "https://localhost:8080/"
        },
        "outputId": "10ec5f92-f18e-472e-fb9b-4430ecdfe81b"
      },
      "execution_count": 3,
      "outputs": [
        {
          "output_type": "stream",
          "name": "stdout",
          "text": [
            "IMDB database loaded successfully.\n",
            "Connection successful\n"
          ]
        }
      ]
    },
    {
      "cell_type": "code",
      "source": [
        "cursor.execute(\"SELECT name FROM sqlite_master WHERE type='table';\")\n",
        "tables = cursor.fetchall()\n",
        "\n",
        "print(\"Database Schema:\")\n",
        "for table in tables:\n",
        "    table_name = table[0]\n",
        "    print(f\"\\nTable: {table_name}\")\n",
        "\n",
        "    cursor.execute(f\"PRAGMA table_info({table_name});\")\n",
        "    schema = cursor.fetchall()\n",
        "\n",
        "    print(\"Columns:\")\n",
        "    for column in schema:\n",
        "        cid, name, dtype, notnull, dflt_value, pk = column\n",
        "        print(f\"  - {name} ({dtype}), NOT NULL: {bool(notnull)}, Default: {dflt_value}, Primary Key: {bool(pk)}\")"
      ],
      "metadata": {
        "id": "iRaN7Bx38lsR",
        "colab": {
          "base_uri": "https://localhost:8080/"
        },
        "outputId": "2612090f-aad2-4e82-91ec-d3017aaa4446"
      },
      "execution_count": 4,
      "outputs": [
        {
          "output_type": "stream",
          "name": "stdout",
          "text": [
            "Database Schema:\n",
            "\n",
            "Table: Movie\n",
            "Columns:\n",
            "  - index (INTEGER), NOT NULL: False, Default: None, Primary Key: False\n",
            "  - MID (TEXT), NOT NULL: False, Default: None, Primary Key: False\n",
            "  - title (TEXT), NOT NULL: False, Default: None, Primary Key: False\n",
            "  - year (TEXT), NOT NULL: False, Default: None, Primary Key: False\n",
            "  - rating (REAL), NOT NULL: False, Default: None, Primary Key: False\n",
            "  - num_votes (INTEGER), NOT NULL: False, Default: None, Primary Key: False\n",
            "\n",
            "Table: Genre\n",
            "Columns:\n",
            "  - index (INTEGER), NOT NULL: False, Default: None, Primary Key: False\n",
            "  - Name (TEXT), NOT NULL: False, Default: None, Primary Key: False\n",
            "  - GID (INTEGER), NOT NULL: False, Default: None, Primary Key: False\n",
            "\n",
            "Table: Language\n",
            "Columns:\n",
            "  - index (INTEGER), NOT NULL: False, Default: None, Primary Key: False\n",
            "  - Name (TEXT), NOT NULL: False, Default: None, Primary Key: False\n",
            "  - LAID (INTEGER), NOT NULL: False, Default: None, Primary Key: False\n",
            "\n",
            "Table: Country\n",
            "Columns:\n",
            "  - index (INTEGER), NOT NULL: False, Default: None, Primary Key: False\n",
            "  - Name (TEXT), NOT NULL: False, Default: None, Primary Key: False\n",
            "  - CID (INTEGER), NOT NULL: False, Default: None, Primary Key: False\n",
            "\n",
            "Table: Location\n",
            "Columns:\n",
            "  - index (INTEGER), NOT NULL: False, Default: None, Primary Key: False\n",
            "  - Name (TEXT), NOT NULL: False, Default: None, Primary Key: False\n",
            "  - LID (INTEGER), NOT NULL: False, Default: None, Primary Key: False\n",
            "\n",
            "Table: M_Location\n",
            "Columns:\n",
            "  - index (INTEGER), NOT NULL: False, Default: None, Primary Key: False\n",
            "  - MID (TEXT), NOT NULL: False, Default: None, Primary Key: False\n",
            "  - LID (REAL), NOT NULL: False, Default: None, Primary Key: False\n",
            "  - ID (INTEGER), NOT NULL: False, Default: None, Primary Key: False\n",
            "\n",
            "Table: M_Country\n",
            "Columns:\n",
            "  - index (INTEGER), NOT NULL: False, Default: None, Primary Key: False\n",
            "  - MID (TEXT), NOT NULL: False, Default: None, Primary Key: False\n",
            "  - CID (REAL), NOT NULL: False, Default: None, Primary Key: False\n",
            "  - ID (INTEGER), NOT NULL: False, Default: None, Primary Key: False\n",
            "\n",
            "Table: M_Language\n",
            "Columns:\n",
            "  - index (INTEGER), NOT NULL: False, Default: None, Primary Key: False\n",
            "  - MID (TEXT), NOT NULL: False, Default: None, Primary Key: False\n",
            "  - LAID (INTEGER), NOT NULL: False, Default: None, Primary Key: False\n",
            "  - ID (INTEGER), NOT NULL: False, Default: None, Primary Key: False\n",
            "\n",
            "Table: M_Genre\n",
            "Columns:\n",
            "  - index (INTEGER), NOT NULL: False, Default: None, Primary Key: False\n",
            "  - MID (TEXT), NOT NULL: False, Default: None, Primary Key: False\n",
            "  - GID (INTEGER), NOT NULL: False, Default: None, Primary Key: False\n",
            "  - ID (INTEGER), NOT NULL: False, Default: None, Primary Key: False\n",
            "\n",
            "Table: Person\n",
            "Columns:\n",
            "  - index (INTEGER), NOT NULL: False, Default: None, Primary Key: False\n",
            "  - PID (TEXT), NOT NULL: False, Default: None, Primary Key: False\n",
            "  - Name (TEXT), NOT NULL: False, Default: None, Primary Key: False\n",
            "  - Gender (TEXT), NOT NULL: False, Default: None, Primary Key: False\n",
            "\n",
            "Table: M_Producer\n",
            "Columns:\n",
            "  - index (INTEGER), NOT NULL: False, Default: None, Primary Key: False\n",
            "  - MID (TEXT), NOT NULL: False, Default: None, Primary Key: False\n",
            "  - PID (TEXT), NOT NULL: False, Default: None, Primary Key: False\n",
            "  - ID (INTEGER), NOT NULL: False, Default: None, Primary Key: False\n",
            "\n",
            "Table: M_Director\n",
            "Columns:\n",
            "  - index (INTEGER), NOT NULL: False, Default: None, Primary Key: False\n",
            "  - MID (TEXT), NOT NULL: False, Default: None, Primary Key: False\n",
            "  - PID (TEXT), NOT NULL: False, Default: None, Primary Key: False\n",
            "  - ID (INTEGER), NOT NULL: False, Default: None, Primary Key: False\n",
            "\n",
            "Table: M_Cast\n",
            "Columns:\n",
            "  - index (INTEGER), NOT NULL: False, Default: None, Primary Key: False\n",
            "  - MID (TEXT), NOT NULL: False, Default: None, Primary Key: False\n",
            "  - PID (TEXT), NOT NULL: False, Default: None, Primary Key: False\n",
            "  - ID (INTEGER), NOT NULL: False, Default: None, Primary Key: False\n"
          ]
        }
      ]
    },
    {
      "cell_type": "code",
      "source": [
        "## 1. Write query to list first 5 rows of Person table\n",
        "q1 = \"\"\"select * from Person limit(5)\"\"\"\n",
        "def q1_grader(q1):\n",
        "  result = pd.read_sql_query(q1, conn)\n",
        "  return result.shape == (5, 4)\n",
        "print(q1_grader(q1))"
      ],
      "metadata": {
        "id": "KJyy8l8e8lvI",
        "colab": {
          "base_uri": "https://localhost:8080/"
        },
        "outputId": "5b15120d-a7e4-4a37-f7f8-e0d6a685f04a"
      },
      "execution_count": 6,
      "outputs": [
        {
          "output_type": "stream",
          "name": "stdout",
          "text": [
            "True\n"
          ]
        }
      ]
    },
    {
      "cell_type": "code",
      "source": [
        "## 2. Write query to select title, year and rating from Movie table\n",
        "q2 = \"\"\"select title,year,rating from Movie\"\"\"\n",
        "def q2_grader(q2):\n",
        "  result = pd.read_sql_query(q2, conn)\n",
        "  return result.shape == (3473, 3) and result['title'][0]=='Mowgli'\n",
        "print(q2_grader(q2))"
      ],
      "metadata": {
        "colab": {
          "base_uri": "https://localhost:8080/"
        },
        "id": "uk6w1VFyAB1s",
        "outputId": "c249611d-1d7d-40e7-b66a-2b18066d87c2"
      },
      "execution_count": 7,
      "outputs": [
        {
          "output_type": "stream",
          "name": "stdout",
          "text": [
            "True\n"
          ]
        }
      ]
    },
    {
      "cell_type": "code",
      "source": [
        "## 3. Write query to get title of first movie in movie table sorted by year in ascending order\n",
        "q3 = \"\"\"select title from movie order by year asc limit 1\"\"\"\n",
        "def q3_grader(q3):\n",
        "  result = pd.read_sql_query(q3, conn)\n",
        "  return result['title']=='Alam Ara'\n",
        "print(q3_grader(q3))"
      ],
      "metadata": {
        "colab": {
          "base_uri": "https://localhost:8080/"
        },
        "id": "QmfAEbHUAV3O",
        "outputId": "8ef94cab-4f54-4254-a878-ea95c24518ff"
      },
      "execution_count": 8,
      "outputs": [
        {
          "output_type": "stream",
          "name": "stdout",
          "text": [
            "0    True\n",
            "Name: title, dtype: bool\n"
          ]
        }
      ]
    },
    {
      "cell_type": "code",
      "source": [
        "## 4. Write query to get the very first year in which Devdas movie was released\n",
        "q4 = \"\"\"select year from movie where title = 'Devdas' order by year asc limit 1\"\"\"\n",
        "def q4_grader(q4):\n",
        "  result = pd.read_sql_query(q4, conn)\n",
        "  return result['year']=='1936'\n",
        "print(q4_grader(q4))"
      ],
      "metadata": {
        "colab": {
          "base_uri": "https://localhost:8080/"
        },
        "id": "Mf76FPMyA9Yl",
        "outputId": "78d0da0b-83f0-423e-a566-13eaa0a2d75e"
      },
      "execution_count": 9,
      "outputs": [
        {
          "output_type": "stream",
          "name": "stdout",
          "text": [
            "0    True\n",
            "Name: year, dtype: bool\n"
          ]
        }
      ]
    },
    {
      "cell_type": "code",
      "source": [
        "## 5. Write query to get the number of movies released in 2018\n",
        "q5 = \"\"\"select count(*) from movie where year = '2018'\"\"\"\n",
        "def q5_grader(q5):\n",
        "  result = pd.read_sql_query(q5, conn)\n",
        "  return result.iloc[0, 0] == 93\n",
        "print(q5_grader(q5))"
      ],
      "metadata": {
        "colab": {
          "base_uri": "https://localhost:8080/"
        },
        "id": "XRMOrUGOBrf5",
        "outputId": "d79d0b54-33b2-40bb-b5d0-90e75b2ba570"
      },
      "execution_count": 11,
      "outputs": [
        {
          "output_type": "stream",
          "name": "stdout",
          "text": [
            "True\n"
          ]
        }
      ]
    },
    {
      "cell_type": "code",
      "source": [
        "## 6. Write query to get the title of the movie with most number of votes in 2012\n",
        "q6 = \"\"\"select title, max(num_votes) from Movie where year = 2012\"\"\"\n",
        "def q6_grader(q6):\n",
        "  result = pd.read_sql_query(q6, conn)\n",
        "  return result[\"title\"]==\"The Avengers\"\n",
        "print(q6_grader(q6))"
      ],
      "metadata": {
        "colab": {
          "base_uri": "https://localhost:8080/"
        },
        "id": "7dcxXphnCRwz",
        "outputId": "2dd3e06c-eca2-493f-cca6-3051015cceca"
      },
      "execution_count": 15,
      "outputs": [
        {
          "output_type": "stream",
          "name": "stdout",
          "text": [
            "0    True\n",
            "Name: title, dtype: bool\n"
          ]
        }
      ]
    },
    {
      "cell_type": "code",
      "source": [
        "## 7. Write SQL query to find all the unique movie titles released in 2018\n",
        "q7 = \"\"\"select distinct title from Movie where year = '2018'\"\"\"\n",
        "def q7_grader(q7):\n",
        "  result = pd.read_sql_query(q7, conn)\n",
        "  return result.shape==(93, 1)\n",
        "print(q7_grader(q7))"
      ],
      "metadata": {
        "colab": {
          "base_uri": "https://localhost:8080/"
        },
        "id": "5Vo1v2m8DUY6",
        "outputId": "a2e2261e-0dcb-4063-d724-8e8dd89b1018"
      },
      "execution_count": 16,
      "outputs": [
        {
          "output_type": "stream",
          "name": "stdout",
          "text": [
            "True\n"
          ]
        }
      ]
    },
    {
      "cell_type": "code",
      "source": [
        "## 8. Write SQL query to get total number of movies released between 2017 (inclusive) and 2018 (inclusive)\n",
        "q8 = \"\"\"select count(*) from Movie where year between '2017' and '2018'\"\"\"\n",
        "def q8_grader(q8):\n",
        "  result = pd.read_sql_query(q8, conn)\n",
        "  return result.iloc[0, 0] == 211\n",
        "print(q8_grader(q8))"
      ],
      "metadata": {
        "colab": {
          "base_uri": "https://localhost:8080/"
        },
        "id": "DHh1z6--D2_g",
        "outputId": "8647100f-4522-47d1-bfa8-1848829726d6"
      },
      "execution_count": 19,
      "outputs": [
        {
          "output_type": "stream",
          "name": "stdout",
          "text": [
            "True\n"
          ]
        }
      ]
    },
    {
      "cell_type": "code",
      "source": [
        "## 9. Write SQL query to find the year in which maximum number of movies released\n",
        "q9 = \"\"\"select year from Movie group by year order by count(*) desc\"\"\"\n",
        "def q9_grader(q9):\n",
        "  result = pd.read_sql_query(q9, conn)\n",
        "  return result[\"year\"][0]==\"2005\"\n",
        "print(q9_grader(q9))"
      ],
      "metadata": {
        "colab": {
          "base_uri": "https://localhost:8080/"
        },
        "id": "3OCcr8YMElAW",
        "outputId": "422f3452-4d98-45ad-cbab-c974124792d6"
      },
      "execution_count": 20,
      "outputs": [
        {
          "output_type": "stream",
          "name": "stdout",
          "text": [
            "True\n"
          ]
        }
      ]
    },
    {
      "cell_type": "code",
      "source": [
        "## 10. Write SQL query to find the title of the movie with rating>9.5 and number of votes > 90\n",
        "q10 = \"\"\"select title from Movie where rating>9.5 and num_votes>90\"\"\"\n",
        "def q10_grader(q10):\n",
        "  result = pd.read_sql_query(q10, conn)\n",
        "  return result[\"title\"][0]==\"Man on Mission Fauladi\"\n",
        "print(q10_grader(q10))"
      ],
      "metadata": {
        "colab": {
          "base_uri": "https://localhost:8080/"
        },
        "id": "EFKaVFaEFYxw",
        "outputId": "7fdcf38c-ef6b-48a0-8dfb-bc8a877e2e61"
      },
      "execution_count": 22,
      "outputs": [
        {
          "output_type": "stream",
          "name": "stdout",
          "text": [
            "True\n"
          ]
        }
      ]
    },
    {
      "cell_type": "code",
      "source": [
        "## 11. Write SQL query to find the number of movies which has the word 'Dilwale' in their title\n",
        "q11 = \"\"\"select count(*) from Movie where title like '%Dilwale%'\"\"\"\n",
        "def q11_grader(q11):\n",
        "  result = pd.read_sql_query(q11, conn)\n",
        "  return result.iloc[0, 0] == 4\n",
        "print(q11_grader(q11))"
      ],
      "metadata": {
        "colab": {
          "base_uri": "https://localhost:8080/"
        },
        "id": "uODavC1oFzV-",
        "outputId": "170e5e07-57c7-45b8-9088-e91e94848a69"
      },
      "execution_count": 23,
      "outputs": [
        {
          "output_type": "stream",
          "name": "stdout",
          "text": [
            "True\n"
          ]
        }
      ]
    },
    {
      "cell_type": "code",
      "source": [
        "## 12. Write nested SQL query to find the CID of country which produced most number of movie\n",
        "q12 = \"\"\"select CID from M_country where CID=(select CID from M_country group by MID order by count(*) Desc limit 1) \"\"\"\n",
        "def q12_grader(q12):\n",
        "  result = pd.read_sql_query(q12, conn)\n",
        "  return result.iloc[0]==2.0\n",
        "print(q12_grader(q12))"
      ],
      "metadata": {
        "colab": {
          "base_uri": "https://localhost:8080/"
        },
        "id": "aIfz45PDGdmO",
        "outputId": "dd651ef7-e90d-4af8-c0c6-a25723048f8b"
      },
      "execution_count": 31,
      "outputs": [
        {
          "output_type": "stream",
          "name": "stdout",
          "text": [
            "CID    True\n",
            "Name: 0, dtype: bool\n"
          ]
        }
      ]
    },
    {
      "cell_type": "code",
      "source": [
        "## 13. Write nested SQL query to the country which produced most number of movies (use both Courty table and M_Country table)\n",
        "q13 = \"\"\"select Name from Country where CID=(select CID from M_country group by MID order by count(*) Desc limit 1)\"\"\"\n",
        "def q13_grader(q13):\n",
        "  result = pd.read_sql_query(q13, conn)\n",
        "  return result.iloc[0, 0] == \"India\"\n",
        "print(q13_grader(q13))"
      ],
      "metadata": {
        "colab": {
          "base_uri": "https://localhost:8080/"
        },
        "id": "sEEyb2qxLDW-",
        "outputId": "d3d19fdc-5bc0-4882-ee6f-5b8c39a7e5bc"
      },
      "execution_count": 32,
      "outputs": [
        {
          "output_type": "stream",
          "name": "stdout",
          "text": [
            "True\n"
          ]
        }
      ]
    },
    {
      "cell_type": "code",
      "source": [
        "## 14. Write SQL query to get the year and number of movies per year having number of movies per year is greater than 100\n",
        "\n",
        "q14=\"\"\"select year, count(*) from Movie group by year having count(*)>100\"\"\"\n",
        "\n",
        "def q14_grader(q14):\n",
        "  result = pd.read_sql_query(q14, conn)\n",
        "  return result.shape==(13,2)\n",
        "print(q14_grader(q14))"
      ],
      "metadata": {
        "colab": {
          "base_uri": "https://localhost:8080/"
        },
        "id": "MeWWTOMITlLY",
        "outputId": "ff138eae-4281-44ae-ec10-d01ebb2edd66"
      },
      "execution_count": 38,
      "outputs": [
        {
          "output_type": "stream",
          "name": "stdout",
          "text": [
            "True\n"
          ]
        }
      ]
    },
    {
      "cell_type": "code",
      "source": [
        "## 15. Write SQL query to get the Name and Language ID (LAID) corresponding to Malayalam language\n",
        "\n",
        "q15 = \"\"\"select Name,LAID from Language where Name='Malayalam'  \"\"\"\n",
        "\n",
        "def q15_grader(q15):\n",
        "  result = pd.read_sql_query(q15, conn)\n",
        "  print(result)\n",
        "  return result[[\"Name\", \"LAID\"]].values.tolist() == [['Malayalam', 19]]\n",
        "print(q15_grader(q15))"
      ],
      "metadata": {
        "colab": {
          "base_uri": "https://localhost:8080/"
        },
        "id": "ZXA_x5rpVBwr",
        "outputId": "8f5b6030-6f01-4da2-cc35-12728302cb67"
      },
      "execution_count": 39,
      "outputs": [
        {
          "output_type": "stream",
          "name": "stdout",
          "text": [
            "        Name  LAID\n",
            "0  Malayalam    19\n",
            "True\n"
          ]
        }
      ]
    },
    {
      "cell_type": "code",
      "source": [
        "## 16. Write SQL query to do inner join with movie table and M_Language table with MID colums\n",
        "\n",
        "q16 = \"\"\"select title,year,LAID from Movie inner join M_language on Movie.MID = M_language.MID \"\"\"\n",
        "\n",
        "def q16_grader(q16):\n",
        "  result = pd.read_sql_query(q16, conn)\n",
        "  return result\n",
        "print(q16_grader(q16))"
      ],
      "metadata": {
        "colab": {
          "base_uri": "https://localhost:8080/"
        },
        "id": "EzUgb9iYVBtV",
        "outputId": "e22c2ac9-21c3-4bbd-8cdf-8a9ed1ccf0cc"
      },
      "execution_count": 41,
      "outputs": [
        {
          "output_type": "stream",
          "name": "stdout",
          "text": [
            "              title  year  LAID\n",
            "0            Mowgli  2018     0\n",
            "1     Ocean's Eight  2018     0\n",
            "2       Tomb Raider  2018     0\n",
            "3      The Avengers  2012     0\n",
            "4           Tumbbad  2018     1\n",
            "...             ...   ...   ...\n",
            "3468    Allah-Rakha  1986     2\n",
            "3469          Anari  1993     2\n",
            "3470  Come December  2006     2\n",
            "3471     Kala Jigar  1939     2\n",
            "3472         Kanoon  1994     2\n",
            "\n",
            "[3473 rows x 3 columns]\n"
          ]
        }
      ]
    },
    {
      "cell_type": "code",
      "source": [
        "## 17. Write SQL query to list title, year and rating of malayalam movies in the database by doing an inner join with movie table and M_Language table with MID column, also assuming language ID of malayalam movies as 19\n",
        "\n",
        "q17 = \"\"\" select title,year,rating from Movie inner join M_language on Movie.MID = M_language.MID where M_language.LAID=19\"\"\"\n",
        "\n",
        "def q17_grader(q17):\n",
        "  result = pd.read_sql_query(q17, conn)\n",
        "  return result.shape==(16,3)\n",
        "print(q17_grader(q17))"
      ],
      "metadata": {
        "colab": {
          "base_uri": "https://localhost:8080/"
        },
        "id": "8dNTtT57VBq9",
        "outputId": "d79ea0cf-5aa8-4de5-9796-c00dcb7b4213"
      },
      "execution_count": 43,
      "outputs": [
        {
          "output_type": "stream",
          "name": "stdout",
          "text": [
            "True\n"
          ]
        }
      ]
    },
    {
      "cell_type": "code",
      "source": [
        "![ -f academic.db ] && rm academic.db\n",
        "\n",
        "conn = sqlite3.connect(\"academic.db\")\n",
        "cursor = conn.cursor()"
      ],
      "metadata": {
        "id": "GfZoAsLuYq-f"
      },
      "execution_count": 44,
      "outputs": []
    },
    {
      "cell_type": "code",
      "source": [
        "## 18. Write SQL query to Create a table named students with two columns id (integer type) and name (varchar type)\n",
        "q18a = \"\"\"create table students(id INTEGER PRIMARY KEY AUTOINCREMENT,name VARCHAR(50))\"\"\"\n",
        "def q18_grader_a(q18):\n",
        "  try:\n",
        "    cursor.execute(q18)\n",
        "    return True\n",
        "  except:\n",
        "    pass\n",
        "\n",
        "def q18_grader_b(q19):\n",
        "  result = pd.read_sql_query(q19, conn)\n",
        "  return result.columns.tolist() == ['id', 'name']\n",
        "\n",
        "q18b = \"\"\"SELECT * FROM students;\"\"\"\n",
        "\n",
        "print(q18_grader_a(q18a) and q18_grader_b(q18b))"
      ],
      "metadata": {
        "colab": {
          "base_uri": "https://localhost:8080/"
        },
        "id": "yfx7aSjbYqrv",
        "outputId": "8effc504-2315-44e4-c373-7664a220a442"
      },
      "execution_count": 46,
      "outputs": [
        {
          "output_type": "stream",
          "name": "stdout",
          "text": [
            "True\n"
          ]
        }
      ]
    },
    {
      "cell_type": "code",
      "source": [
        "## 19. Write SQL query to insert the values (1, 'Alice') into students table\n",
        "q19_a = \"\"\"insert into students values(1,'Alice')\"\"\"\n",
        "def q19_grader_a(q19_a):\n",
        "  try:\n",
        "    cursor.execute(q19_a)\n",
        "  except:\n",
        "    pass\n",
        "  return True\n",
        "\n",
        "def q19_grader_b(q19_b):\n",
        "  result = pd.read_sql_query(q19_b, conn)\n",
        "  return result.values.tolist() == [[1, 'Alice']]\n",
        "\n",
        "q19_b = \"SELECT * FROM students\"\n",
        "print(q19_grader_a(q19_a) and q19_grader_b(q19_b))"
      ],
      "metadata": {
        "colab": {
          "base_uri": "https://localhost:8080/"
        },
        "id": "IKzsmSJYeytt",
        "outputId": "ce1622dd-6c62-42cf-cbe7-f24b5c9111e7"
      },
      "execution_count": 48,
      "outputs": [
        {
          "output_type": "stream",
          "name": "stdout",
          "text": [
            "True\n"
          ]
        }
      ]
    },
    {
      "cell_type": "code",
      "source": [
        "## 20. Write SQL Query to add the following more information to students table\n",
        "\n",
        "\"\"\"| ID | Name    |\n",
        "|----|---------|\n",
        "| 2  | Bob     |\n",
        "| 3  | Charlie |\"\"\"\n",
        "q20 = \"\"\"insert into students values(2,'Bob'),(3,'Charlie')\"\"\"\n",
        "def q20_grader(q20):\n",
        "  try:\n",
        "    cursor.execute(q20)\n",
        "  except:\n",
        "    pass\n",
        "  return True\n",
        "\n",
        "def q20_grader_b(q20_b):\n",
        "  result = pd.read_sql_query(q20_b, conn)\n",
        "  return result.values.tolist() == [[1, 'Alice'], [2, 'Bob'], [3, 'Charlie']]\n",
        "\n",
        "print(q20_grader(q20) and q20_grader_b(q19_b))"
      ],
      "metadata": {
        "colab": {
          "base_uri": "https://localhost:8080/"
        },
        "id": "ve9-urIkf4J_",
        "outputId": "c9e94307-ed99-4c80-f243-77c6f2ba15e6"
      },
      "execution_count": 49,
      "outputs": [
        {
          "output_type": "stream",
          "name": "stdout",
          "text": [
            "True\n"
          ]
        }
      ]
    }
  ]
}